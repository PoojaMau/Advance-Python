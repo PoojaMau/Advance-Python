{
 "cells": [
  {
   "cell_type": "markdown",
   "metadata": {},
   "source": [
    "# Project 2 - Stock Market API Project"
   ]
  },
  {
   "cell_type": "code",
   "execution_count": 1,
   "metadata": {},
   "outputs": [
    {
     "name": "stdout",
     "output_type": "stream",
     "text": [
      "Collecting python-dotenvNote: you may need to restart the kernel to use updated packages.\n",
      "\n",
      "  Downloading python_dotenv-1.0.1-py3-none-any.whl.metadata (23 kB)\n",
      "Requirement already satisfied: plotly in c:\\users\\pooja nimbalkar\\desktop\\etlhive class\\advance python\\repository\\venv\\lib\\site-packages (5.24.1)\n",
      "Requirement already satisfied: nbformat in c:\\users\\pooja nimbalkar\\desktop\\etlhive class\\advance python\\repository\\venv\\lib\\site-packages (5.10.4)\n",
      "Requirement already satisfied: tenacity>=6.2.0 in c:\\users\\pooja nimbalkar\\desktop\\etlhive class\\advance python\\repository\\venv\\lib\\site-packages (from plotly) (9.0.0)\n",
      "Requirement already satisfied: packaging in c:\\users\\pooja nimbalkar\\desktop\\etlhive class\\advance python\\repository\\venv\\lib\\site-packages (from plotly) (24.2)\n",
      "Requirement already satisfied: fastjsonschema>=2.15 in c:\\users\\pooja nimbalkar\\desktop\\etlhive class\\advance python\\repository\\venv\\lib\\site-packages (from nbformat) (2.21.0)\n",
      "Requirement already satisfied: jsonschema>=2.6 in c:\\users\\pooja nimbalkar\\desktop\\etlhive class\\advance python\\repository\\venv\\lib\\site-packages (from nbformat) (4.23.0)\n",
      "Requirement already satisfied: jupyter-core!=5.0.*,>=4.12 in c:\\users\\pooja nimbalkar\\desktop\\etlhive class\\advance python\\repository\\venv\\lib\\site-packages (from nbformat) (5.7.2)\n",
      "Requirement already satisfied: traitlets>=5.1 in c:\\users\\pooja nimbalkar\\desktop\\etlhive class\\advance python\\repository\\venv\\lib\\site-packages (from nbformat) (5.14.3)\n",
      "Requirement already satisfied: attrs>=22.2.0 in c:\\users\\pooja nimbalkar\\desktop\\etlhive class\\advance python\\repository\\venv\\lib\\site-packages (from jsonschema>=2.6->nbformat) (24.2.0)\n",
      "Requirement already satisfied: jsonschema-specifications>=2023.03.6 in c:\\users\\pooja nimbalkar\\desktop\\etlhive class\\advance python\\repository\\venv\\lib\\site-packages (from jsonschema>=2.6->nbformat) (2024.10.1)\n",
      "Requirement already satisfied: referencing>=0.28.4 in c:\\users\\pooja nimbalkar\\desktop\\etlhive class\\advance python\\repository\\venv\\lib\\site-packages (from jsonschema>=2.6->nbformat) (0.35.1)\n",
      "Requirement already satisfied: rpds-py>=0.7.1 in c:\\users\\pooja nimbalkar\\desktop\\etlhive class\\advance python\\repository\\venv\\lib\\site-packages (from jsonschema>=2.6->nbformat) (0.21.0)\n",
      "Requirement already satisfied: platformdirs>=2.5 in c:\\users\\pooja nimbalkar\\desktop\\etlhive class\\advance python\\repository\\venv\\lib\\site-packages (from jupyter-core!=5.0.*,>=4.12->nbformat) (4.3.6)\n",
      "Requirement already satisfied: pywin32>=300 in c:\\users\\pooja nimbalkar\\desktop\\etlhive class\\advance python\\repository\\venv\\lib\\site-packages (from jupyter-core!=5.0.*,>=4.12->nbformat) (308)\n",
      "Downloading python_dotenv-1.0.1-py3-none-any.whl (19 kB)\n",
      "Installing collected packages: python-dotenv\n",
      "Successfully installed python-dotenv-1.0.1\n"
     ]
    }
   ],
   "source": [
    "%pip install python-dotenv plotly nbformat"
   ]
  },
  {
   "cell_type": "markdown",
   "metadata": {},
   "source": [
    "# Load the api key from .env file"
   ]
  },
  {
   "cell_type": "code",
   "execution_count": 2,
   "metadata": {},
   "outputs": [
    {
     "data": {
      "text/plain": [
       "True"
      ]
     },
     "execution_count": 2,
     "metadata": {},
     "output_type": "execute_result"
    }
   ],
   "source": [
    "from dotenv import load_dotenv\n",
    "load_dotenv()"
   ]
  },
  {
   "cell_type": "code",
   "execution_count": 3,
   "metadata": {},
   "outputs": [],
   "source": [
    "import os\n",
    "api_key = os.getenv(\"API_KEY\")"
   ]
  },
  {
   "cell_type": "markdown",
   "metadata": {},
   "source": [
    "# 1. Get the company stock symbol"
   ]
  },
  {
   "cell_type": "code",
   "execution_count": 7,
   "metadata": {},
   "outputs": [
    {
     "data": {
      "text/plain": [
       "{'bestMatches': [{'1. symbol': 'MSF0.FRK',\n",
       "   '2. name': 'MICROSOFT CORP. CDR',\n",
       "   '3. type': 'Equity',\n",
       "   '4. region': 'Frankfurt',\n",
       "   '5. marketOpen': '08:00',\n",
       "   '6. marketClose': '20:00',\n",
       "   '7. timezone': 'UTC+02',\n",
       "   '8. currency': 'EUR',\n",
       "   '9. matchScore': '0.6429'},\n",
       "  {'1. symbol': 'MSFT',\n",
       "   '2. name': 'Microsoft Corporation',\n",
       "   '3. type': 'Equity',\n",
       "   '4. region': 'United States',\n",
       "   '5. marketOpen': '09:30',\n",
       "   '6. marketClose': '16:00',\n",
       "   '7. timezone': 'UTC-04',\n",
       "   '8. currency': 'USD',\n",
       "   '9. matchScore': '0.6154'},\n",
       "  {'1. symbol': '0QYP.LON',\n",
       "   '2. name': 'Microsoft Corporation',\n",
       "   '3. type': 'Equity',\n",
       "   '4. region': 'United Kingdom',\n",
       "   '5. marketOpen': '08:00',\n",
       "   '6. marketClose': '16:30',\n",
       "   '7. timezone': 'UTC+01',\n",
       "   '8. currency': 'USD',\n",
       "   '9. matchScore': '0.6000'},\n",
       "  {'1. symbol': 'MSF.DEX',\n",
       "   '2. name': 'Microsoft Corporation',\n",
       "   '3. type': 'Equity',\n",
       "   '4. region': 'XETRA',\n",
       "   '5. marketOpen': '08:00',\n",
       "   '6. marketClose': '20:00',\n",
       "   '7. timezone': 'UTC+02',\n",
       "   '8. currency': 'EUR',\n",
       "   '9. matchScore': '0.6000'},\n",
       "  {'1. symbol': 'MSF.FRK',\n",
       "   '2. name': 'Microsoft Corporation',\n",
       "   '3. type': 'Equity',\n",
       "   '4. region': 'Frankfurt',\n",
       "   '5. marketOpen': '08:00',\n",
       "   '6. marketClose': '20:00',\n",
       "   '7. timezone': 'UTC+02',\n",
       "   '8. currency': 'EUR',\n",
       "   '9. matchScore': '0.6000'},\n",
       "  {'1. symbol': 'MSFT34.SAO',\n",
       "   '2. name': 'Microsoft Corporation',\n",
       "   '3. type': 'Equity',\n",
       "   '4. region': 'Brazil/Sao Paolo',\n",
       "   '5. marketOpen': '10:00',\n",
       "   '6. marketClose': '17:30',\n",
       "   '7. timezone': 'UTC-03',\n",
       "   '8. currency': 'BRL',\n",
       "   '9. matchScore': '0.6000'}]}"
      ]
     },
     "execution_count": 7,
     "metadata": {},
     "output_type": "execute_result"
    }
   ],
   "source": [
    "import requests\n",
    "\n",
    "url = \"https://alpha-vantage.p.rapidapi.com/query\"\n",
    "\n",
    "querystring = {\"datatype\":\"json\",\"keywords\":\"microsoft\",\"function\":\"SYMBOL_SEARCH\"}\n",
    "\n",
    "headers = {\n",
    "\t\"x-rapidapi-key\": api_key,\n",
    "\t\"x-rapidapi-host\": \"alpha-vantage.p.rapidapi.com\"\n",
    "}\n",
    "\n",
    "response = requests.get(url, headers=headers, params=querystring)\n",
    "\n",
    "response.json()"
   ]
  },
  {
   "cell_type": "code",
   "execution_count": 8,
   "metadata": {},
   "outputs": [
    {
     "data": {
      "text/plain": [
       "{'bestMatches': [{'1. symbol': 'SBIN.BSE',\n",
       "   '2. name': 'State Bank of India',\n",
       "   '3. type': 'Equity',\n",
       "   '4. region': 'India/Bombay',\n",
       "   '5. marketOpen': '09:15',\n",
       "   '6. marketClose': '15:30',\n",
       "   '7. timezone': 'UTC+5.5',\n",
       "   '8. currency': 'INR',\n",
       "   '9. matchScore': '1.0000'},\n",
       "  {'1. symbol': 'SBKFF',\n",
       "   '2. name': 'State Bank of India',\n",
       "   '3. type': 'Equity',\n",
       "   '4. region': 'United States',\n",
       "   '5. marketOpen': '09:30',\n",
       "   '6. marketClose': '16:00',\n",
       "   '7. timezone': 'UTC-04',\n",
       "   '8. currency': 'USD',\n",
       "   '9. matchScore': '1.0000'},\n",
       "  {'1. symbol': 'SID.FRK',\n",
       "   '2. name': 'State Bank of India',\n",
       "   '3. type': 'Equity',\n",
       "   '4. region': 'Frankfurt',\n",
       "   '5. marketOpen': '08:00',\n",
       "   '6. marketClose': '20:00',\n",
       "   '7. timezone': 'UTC+02',\n",
       "   '8. currency': 'EUR',\n",
       "   '9. matchScore': '1.0000'},\n",
       "  {'1. symbol': 'SBID.LON',\n",
       "   '2. name': 'State Bank of India GDR',\n",
       "   '3. type': 'Equity',\n",
       "   '4. region': 'United Kingdom',\n",
       "   '5. marketOpen': '08:00',\n",
       "   '6. marketClose': '16:30',\n",
       "   '7. timezone': 'UTC+01',\n",
       "   '8. currency': 'USD',\n",
       "   '9. matchScore': '0.9048'}]}"
      ]
     },
     "execution_count": 8,
     "metadata": {},
     "output_type": "execute_result"
    }
   ],
   "source": [
    "import requests\n",
    "\n",
    "url = \"https://alpha-vantage.p.rapidapi.com/query\"\n",
    "\n",
    "querystring = {\"datatype\":\"json\",\"keywords\":\"State Bank of India\",\"function\":\"SYMBOL_SEARCH\"}\n",
    "\n",
    "headers = {\n",
    "\t\"x-rapidapi-key\": api_key,\n",
    "\t\"x-rapidapi-host\": \"alpha-vantage.p.rapidapi.com\"\n",
    "}\n",
    "\n",
    "response = requests.get(url, headers=headers, params=querystring)\n",
    "\n",
    "response.json()"
   ]
  },
  {
   "cell_type": "markdown",
   "metadata": {},
   "source": [
    "## Get daily stock details for SBIN.BSE"
   ]
  },
  {
   "cell_type": "code",
   "execution_count": 9,
   "metadata": {},
   "outputs": [],
   "source": [
    "import requests\n",
    "\n",
    "url = \"https://alpha-vantage.p.rapidapi.com/query\"\n",
    "\n",
    "querystring = {\"function\":\"TIME_SERIES_DAILY\",\"symbol\":\"SBIN.BSE\",\"outputsize\":\"compact\",\"datatype\":\"json\"}\n",
    "\n",
    "headers = {\n",
    "\t\"x-rapidapi-key\": api_key,\n",
    "\t\"x-rapidapi-host\": \"alpha-vantage.p.rapidapi.com\"\n",
    "}\n",
    "\n",
    "response = requests.get(url, headers=headers, params=querystring)\n",
    "\n",
    "data = response.json()"
   ]
  },
  {
   "cell_type": "code",
   "execution_count": 10,
   "metadata": {},
   "outputs": [
    {
     "data": {
      "text/plain": [
       "{'Meta Data': {'1. Information': 'Daily Prices (open, high, low, close) and Volumes',\n",
       "  '2. Symbol': 'SBIN.BSE',\n",
       "  '3. Last Refreshed': '2025-01-02',\n",
       "  '4. Output Size': 'Compact',\n",
       "  '5. Time Zone': 'US/Eastern'},\n",
       " 'Time Series (Daily)': {'2025-01-02': {'1. open': '795.0000',\n",
       "   '2. high': '802.4000',\n",
       "   '3. low': '786.3000',\n",
       "   '4. close': '801.0500',\n",
       "   '5. volume': '711599'},\n",
       "  '2025-01-01': {'1. open': '796.8500',\n",
       "   '2. high': '798.5000',\n",
       "   '3. low': '789.6000',\n",
       "   '4. close': '793.3500',\n",
       "   '5. volume': '356031'},\n",
       "  '2024-12-31': {'1. open': '788.7500',\n",
       "   '2. high': '798.9500',\n",
       "   '3. low': '787.0000',\n",
       "   '4. close': '795.0500',\n",
       "   '5. volume': '283620'},\n",
       "  '2024-12-30': {'1. open': '802.7000',\n",
       "   '2. high': '808.0000',\n",
       "   '3. low': '785.2000',\n",
       "   '4. close': '788.3000',\n",
       "   '5. volume': '686161'},\n",
       "  '2024-12-27': {'1. open': '817.2500',\n",
       "   '2. high': '818.7500',\n",
       "   '3. low': '797.2500',\n",
       "   '4. close': '799.5500',\n",
       "   '5. volume': '1061163'},\n",
       "  '2024-12-26': {'1. open': '813.0000',\n",
       "   '2. high': '822.9500',\n",
       "   '3. low': '808.0000',\n",
       "   '4. close': '811.6500',\n",
       "   '5. volume': '194920'},\n",
       "  '2024-12-24': {'1. open': '825.0000',\n",
       "   '2. high': '825.5500',\n",
       "   '3. low': '809.2000',\n",
       "   '4. close': '811.8500',\n",
       "   '5. volume': '431577'},\n",
       "  '2024-12-23': {'1. open': '818.3500',\n",
       "   '2. high': '823.9000',\n",
       "   '3. low': '812.4000',\n",
       "   '4. close': '820.9500',\n",
       "   '5. volume': '281649'},\n",
       "  '2024-12-20': {'1. open': '833.8000',\n",
       "   '2. high': '836.4000',\n",
       "   '3. low': '810.0000',\n",
       "   '4. close': '812.5000',\n",
       "   '5. volume': '467910'},\n",
       "  '2024-12-19': {'1. open': '822.0500',\n",
       "   '2. high': '837.9000',\n",
       "   '3. low': '820.1000',\n",
       "   '4. close': '832.8000',\n",
       "   '5. volume': '309033'},\n",
       "  '2024-12-18': {'1. open': '850.2000',\n",
       "   '2. high': '850.8000',\n",
       "   '3. low': '836.7000',\n",
       "   '4. close': '839.0500',\n",
       "   '5. volume': '172425'},\n",
       "  '2024-12-17': {'1. open': '859.7500',\n",
       "   '2. high': '862.9500',\n",
       "   '3. low': '847.1500',\n",
       "   '4. close': '850.2000',\n",
       "   '5. volume': '143409'},\n",
       "  '2024-12-16': {'1. open': '859.0000',\n",
       "   '2. high': '866.2000',\n",
       "   '3. low': '857.8000',\n",
       "   '4. close': '860.7000',\n",
       "   '5. volume': '252691'},\n",
       "  '2024-12-13': {'1. open': '853.7000',\n",
       "   '2. high': '863.0000',\n",
       "   '3. low': '835.0000',\n",
       "   '4. close': '861.7000',\n",
       "   '5. volume': '455324'},\n",
       "  '2024-12-12': {'1. open': '862.5000',\n",
       "   '2. high': '864.2000',\n",
       "   '3. low': '851.2500',\n",
       "   '4. close': '853.7500',\n",
       "   '5. volume': '179011'},\n",
       "  '2024-12-11': {'1. open': '865.7500',\n",
       "   '2. high': '869.7500',\n",
       "   '3. low': '860.8000',\n",
       "   '4. close': '861.5500',\n",
       "   '5. volume': '342069'},\n",
       "  '2024-12-10': {'1. open': '862.0000',\n",
       "   '2. high': '868.8500',\n",
       "   '3. low': '858.5000',\n",
       "   '4. close': '867.6000',\n",
       "   '5. volume': '197287'},\n",
       "  '2024-12-09': {'1. open': '862.9500',\n",
       "   '2. high': '866.8000',\n",
       "   '3. low': '856.7500',\n",
       "   '4. close': '857.8500',\n",
       "   '5. volume': '646144'},\n",
       "  '2024-12-06': {'1. open': '866.9500',\n",
       "   '2. high': '875.5000',\n",
       "   '3. low': '856.8500',\n",
       "   '4. close': '864.0000',\n",
       "   '5. volume': '431320'},\n",
       "  '2024-12-05': {'1. open': '861.6500',\n",
       "   '2. high': '871.0000',\n",
       "   '3. low': '855.6500',\n",
       "   '4. close': '864.8500',\n",
       "   '5. volume': '379508'},\n",
       "  '2024-12-04': {'1. open': '854.4000',\n",
       "   '2. high': '863.8000',\n",
       "   '3. low': '850.2500',\n",
       "   '4. close': '859.4500',\n",
       "   '5. volume': '679548'},\n",
       "  '2024-12-03': {'1. open': '836.4500',\n",
       "   '2. high': '856.6000',\n",
       "   '3. low': '836.4500',\n",
       "   '4. close': '853.9500',\n",
       "   '5. volume': '370485'},\n",
       "  '2024-12-02': {'1. open': '836.2000',\n",
       "   '2. high': '842.0000',\n",
       "   '3. low': '832.8000',\n",
       "   '4. close': '836.2000',\n",
       "   '5. volume': '526054'},\n",
       "  '2024-11-29': {'1. open': '842.0000',\n",
       "   '2. high': '843.8500',\n",
       "   '3. low': '831.5000',\n",
       "   '4. close': '839.0000',\n",
       "   '5. volume': '757635'},\n",
       "  '2024-11-28': {'1. open': '834.9500',\n",
       "   '2. high': '845.7000',\n",
       "   '3. low': '830.3500',\n",
       "   '4. close': '838.7500',\n",
       "   '5. volume': '811586'},\n",
       "  '2024-11-27': {'1. open': '839.3000',\n",
       "   '2. high': '842.1500',\n",
       "   '3. low': '832.0000',\n",
       "   '4. close': '834.2000',\n",
       "   '5. volume': '502957'},\n",
       "  '2024-11-26': {'1. open': '844.7500',\n",
       "   '2. high': '846.7000',\n",
       "   '3. low': '835.2000',\n",
       "   '4. close': '839.3500',\n",
       "   '5. volume': '448647'},\n",
       "  '2024-11-25': {'1. open': '826.2500',\n",
       "   '2. high': '849.3000',\n",
       "   '3. low': '825.9500',\n",
       "   '4. close': '844.7500',\n",
       "   '5. volume': '1612713'},\n",
       "  '2024-11-22': {'1. open': '785.6500',\n",
       "   '2. high': '819.7500',\n",
       "   '3. low': '784.3000',\n",
       "   '4. close': '816.0500',\n",
       "   '5. volume': '1534393'},\n",
       "  '2024-11-21': {'1. open': '800.0000',\n",
       "   '2. high': '800.0000',\n",
       "   '3. low': '761.6500',\n",
       "   '4. close': '780.8500',\n",
       "   '5. volume': '804079'},\n",
       "  '2024-11-19': {'1. open': '817.5500',\n",
       "   '2. high': '820.1000',\n",
       "   '3. low': '800.1000',\n",
       "   '4. close': '802.0000',\n",
       "   '5. volume': '467072'},\n",
       "  '2024-11-18': {'1. open': '810.0500',\n",
       "   '2. high': '816.6500',\n",
       "   '3. low': '799.2000',\n",
       "   '4. close': '813.7000',\n",
       "   '5. volume': '378989'},\n",
       "  '2024-11-14': {'1. open': '809.9500',\n",
       "   '2. high': '817.8500',\n",
       "   '3. low': '801.1000',\n",
       "   '4. close': '804.0500',\n",
       "   '5. volume': '720597'},\n",
       "  '2024-11-13': {'1. open': '822.5000',\n",
       "   '2. high': '831.6500',\n",
       "   '3. low': '804.4500',\n",
       "   '4. close': '808.3500',\n",
       "   '5. volume': '454522'},\n",
       "  '2024-11-12': {'1. open': '851.0000',\n",
       "   '2. high': '853.0000',\n",
       "   '3. low': '824.1000',\n",
       "   '4. close': '826.4000',\n",
       "   '5. volume': '467134'},\n",
       "  '2024-11-11': {'1. open': '847.0000',\n",
       "   '2. high': '853.6500',\n",
       "   '3. low': '841.4500',\n",
       "   '4. close': '847.8000',\n",
       "   '5. volume': '1417460'},\n",
       "  '2024-11-08': {'1. open': '860.0000',\n",
       "   '2. high': '863.6500',\n",
       "   '3. low': '834.3000',\n",
       "   '4. close': '843.2500',\n",
       "   '5. volume': '1106664'},\n",
       "  '2024-11-07': {'1. open': '860.0500',\n",
       "   '2. high': '862.4500',\n",
       "   '3. low': '846.7000',\n",
       "   '4. close': '859.2500',\n",
       "   '5. volume': '494821'},\n",
       "  '2024-11-06': {'1. open': '850.0000',\n",
       "   '2. high': '861.0000',\n",
       "   '3. low': '846.2000',\n",
       "   '4. close': '854.7500',\n",
       "   '5. volume': '896339'},\n",
       "  '2024-11-05': {'1. open': '829.0000',\n",
       "   '2. high': '851.2000',\n",
       "   '3. low': '826.1000',\n",
       "   '4. close': '849.2000',\n",
       "   '5. volume': '1335383'},\n",
       "  '2024-11-04': {'1. open': '822.6500',\n",
       "   '2. high': '837.5000',\n",
       "   '3. low': '807.0500',\n",
       "   '4. close': '829.8500',\n",
       "   '5. volume': '458939'},\n",
       "  '2024-10-31': {'1. open': '821.9500',\n",
       "   '2. high': '828.0000',\n",
       "   '3. low': '813.4500',\n",
       "   '4. close': '820.5000',\n",
       "   '5. volume': '497763'},\n",
       "  '2024-10-30': {'1. open': '830.0000',\n",
       "   '2. high': '832.9000',\n",
       "   '3. low': '821.0500',\n",
       "   '4. close': '822.4000',\n",
       "   '5. volume': '322347'},\n",
       "  '2024-10-29': {'1. open': '796.5000',\n",
       "   '2. high': '834.5000',\n",
       "   '3. low': '790.5000',\n",
       "   '4. close': '832.6500',\n",
       "   '5. volume': '1593501'},\n",
       "  '2024-10-28': {'1. open': '783.2000',\n",
       "   '2. high': '803.9500',\n",
       "   '3. low': '783.2000',\n",
       "   '4. close': '792.0500',\n",
       "   '5. volume': '675658'},\n",
       "  '2024-10-25': {'1. open': '798.4500',\n",
       "   '2. high': '800.0000',\n",
       "   '3. low': '772.0500',\n",
       "   '4. close': '780.6000',\n",
       "   '5. volume': '650630'},\n",
       "  '2024-10-24': {'1. open': '786.0500',\n",
       "   '2. high': '796.8000',\n",
       "   '3. low': '784.5000',\n",
       "   '4. close': '794.7000',\n",
       "   '5. volume': '183971'},\n",
       "  '2024-10-23': {'1. open': '790.0000',\n",
       "   '2. high': '792.5000',\n",
       "   '3. low': '779.6000',\n",
       "   '4. close': '785.9500',\n",
       "   '5. volume': '467975'},\n",
       "  '2024-10-22': {'1. open': '814.1500',\n",
       "   '2. high': '816.3500',\n",
       "   '3. low': '787.6000',\n",
       "   '4. close': '790.4500',\n",
       "   '5. volume': '604778'},\n",
       "  '2024-10-21': {'1. open': '822.0500',\n",
       "   '2. high': '826.3500',\n",
       "   '3. low': '809.1000',\n",
       "   '4. close': '814.1500',\n",
       "   '5. volume': '584223'},\n",
       "  '2024-10-18': {'1. open': '811.0000',\n",
       "   '2. high': '822.4000',\n",
       "   '3. low': '803.1000',\n",
       "   '4. close': '819.9500',\n",
       "   '5. volume': '429099'},\n",
       "  '2024-10-17': {'1. open': '806.0500',\n",
       "   '2. high': '819.2500',\n",
       "   '3. low': '806.0500',\n",
       "   '4. close': '810.9000',\n",
       "   '5. volume': '948591'},\n",
       "  '2024-10-16': {'1. open': '801.0500',\n",
       "   '2. high': '808.9000',\n",
       "   '3. low': '801.0500',\n",
       "   '4. close': '805.8500',\n",
       "   '5. volume': '142406'},\n",
       "  '2024-10-15': {'1. open': '805.0000',\n",
       "   '2. high': '807.6000',\n",
       "   '3. low': '801.5000',\n",
       "   '4. close': '804.6000',\n",
       "   '5. volume': '314354'},\n",
       "  '2024-10-14': {'1. open': '800.1500',\n",
       "   '2. high': '809.0000',\n",
       "   '3. low': '800.1500',\n",
       "   '4. close': '805.2500',\n",
       "   '5. volume': '755286'},\n",
       "  '2024-10-11': {'1. open': '797.0000',\n",
       "   '2. high': '802.5000',\n",
       "   '3. low': '793.0000',\n",
       "   '4. close': '800.0000',\n",
       "   '5. volume': '381115'},\n",
       "  '2024-10-10': {'1. open': '799.9000',\n",
       "   '2. high': '804.3500',\n",
       "   '3. low': '795.0500',\n",
       "   '4. close': '796.9500',\n",
       "   '5. volume': '163966'},\n",
       "  '2024-10-09': {'1. open': '787.9500',\n",
       "   '2. high': '805.0000',\n",
       "   '3. low': '782.5500',\n",
       "   '4. close': '797.0000',\n",
       "   '5. volume': '807499'},\n",
       "  '2024-10-08': {'1. open': '771.1000',\n",
       "   '2. high': '784.5000',\n",
       "   '3. low': '771.1000',\n",
       "   '4. close': '782.0500',\n",
       "   '5. volume': '295906'},\n",
       "  '2024-10-07': {'1. open': '797.0500',\n",
       "   '2. high': '803.9000',\n",
       "   '3. low': '765.5500',\n",
       "   '4. close': '769.8000',\n",
       "   '5. volume': '1587972'},\n",
       "  '2024-10-04': {'1. open': '790.3000',\n",
       "   '2. high': '809.6500',\n",
       "   '3. low': '785.2000',\n",
       "   '4. close': '796.6000',\n",
       "   '5. volume': '1154183'},\n",
       "  '2024-10-03': {'1. open': '787.4000',\n",
       "   '2. high': '803.9500',\n",
       "   '3. low': '784.3500',\n",
       "   '4. close': '794.3500',\n",
       "   '5. volume': '768391'},\n",
       "  '2024-10-01': {'1. open': '788.9500',\n",
       "   '2. high': '799.7500',\n",
       "   '3. low': '788.2500',\n",
       "   '4. close': '797.0000',\n",
       "   '5. volume': '227883'},\n",
       "  '2024-09-30': {'1. open': '801.1500',\n",
       "   '2. high': '802.5000',\n",
       "   '3. low': '786.1500',\n",
       "   '4. close': '787.6000',\n",
       "   '5. volume': '1054719'},\n",
       "  '2024-09-27': {'1. open': '802.0000',\n",
       "   '2. high': '807.8500',\n",
       "   '3. low': '798.4000',\n",
       "   '4. close': '802.6500',\n",
       "   '5. volume': '669965'},\n",
       "  '2024-09-26': {'1. open': '795.1500',\n",
       "   '2. high': '803.0000',\n",
       "   '3. low': '791.5500',\n",
       "   '4. close': '801.9000',\n",
       "   '5. volume': '432917'},\n",
       "  '2024-09-25': {'1. open': '798.2500',\n",
       "   '2. high': '798.2500',\n",
       "   '3. low': '788.6500',\n",
       "   '4. close': '792.9500',\n",
       "   '5. volume': '524539'},\n",
       "  '2024-09-24': {'1. open': '800.0000',\n",
       "   '2. high': '804.1000',\n",
       "   '3. low': '796.6500',\n",
       "   '4. close': '798.3500',\n",
       "   '5. volume': '427650'},\n",
       "  '2024-09-23': {'1. open': '785.0500',\n",
       "   '2. high': '804.9000',\n",
       "   '3. low': '785.0000',\n",
       "   '4. close': '801.8000',\n",
       "   '5. volume': '1415077'},\n",
       "  '2024-09-20': {'1. open': '794.0500',\n",
       "   '2. high': '794.4000',\n",
       "   '3. low': '779.5000',\n",
       "   '4. close': '781.9000',\n",
       "   '5. volume': '1481791'},\n",
       "  '2024-09-19': {'1. open': '794.1500',\n",
       "   '2. high': '801.2500',\n",
       "   '3. low': '784.1000',\n",
       "   '4. close': '790.3500',\n",
       "   '5. volume': '402071'},\n",
       "  '2024-09-18': {'1. open': '783.5500',\n",
       "   '2. high': '794.5000',\n",
       "   '3. low': '781.3000',\n",
       "   '4. close': '792.3500',\n",
       "   '5. volume': '681430'},\n",
       "  '2024-09-17': {'1. open': '786.0000',\n",
       "   '2. high': '787.5000',\n",
       "   '3. low': '780.6500',\n",
       "   '4. close': '783.0500',\n",
       "   '5. volume': '240500'},\n",
       "  '2024-09-16': {'1. open': '793.4500',\n",
       "   '2. high': '795.3000',\n",
       "   '3. low': '784.1000',\n",
       "   '4. close': '785.4500',\n",
       "   '5. volume': '624666'},\n",
       "  '2024-09-13': {'1. open': '790.8500',\n",
       "   '2. high': '795.0000',\n",
       "   '3. low': '784.8500',\n",
       "   '4. close': '790.5500',\n",
       "   '5. volume': '1064575'},\n",
       "  '2024-09-12': {'1. open': '775.0000',\n",
       "   '2. high': '789.7000',\n",
       "   '3. low': '772.9000',\n",
       "   '4. close': '788.0500',\n",
       "   '5. volume': '312891'},\n",
       "  '2024-09-11': {'1. open': '781.6500',\n",
       "   '2. high': '788.0000',\n",
       "   '3. low': '765.6500',\n",
       "   '4. close': '768.3000',\n",
       "   '5. volume': '521913'},\n",
       "  '2024-09-10': {'1. open': '788.6500',\n",
       "   '2. high': '788.9500',\n",
       "   '3. low': '777.6500',\n",
       "   '4. close': '782.6000',\n",
       "   '5. volume': '582017'},\n",
       "  '2024-09-09': {'1. open': '785.0000',\n",
       "   '2. high': '788.0500',\n",
       "   '3. low': '771.3000',\n",
       "   '4. close': '784.3000',\n",
       "   '5. volume': '1433332'},\n",
       "  '2024-09-06': {'1. open': '813.9000',\n",
       "   '2. high': '813.9000',\n",
       "   '3. low': '777.0500',\n",
       "   '4. close': '782.6000',\n",
       "   '5. volume': '2498701'},\n",
       "  '2024-09-05': {'1. open': '818.0000',\n",
       "   '2. high': '821.9000',\n",
       "   '3. low': '814.3000',\n",
       "   '4. close': '818.6000',\n",
       "   '5. volume': '318031'},\n",
       "  '2024-09-04': {'1. open': '813.0000',\n",
       "   '2. high': '818.6500',\n",
       "   '3. low': '813.0000',\n",
       "   '4. close': '816.5000',\n",
       "   '5. volume': '278846'},\n",
       "  '2024-09-03': {'1. open': '821.2000',\n",
       "   '2. high': '825.9000',\n",
       "   '3. low': '816.7500',\n",
       "   '4. close': '824.7500',\n",
       "   '5. volume': '293326'},\n",
       "  '2024-09-02': {'1. open': '816.4500',\n",
       "   '2. high': '825.3000',\n",
       "   '3. low': '813.0000',\n",
       "   '4. close': '822.1000',\n",
       "   '5. volume': '1129356'},\n",
       "  '2024-08-30': {'1. open': '818.4500',\n",
       "   '2. high': '820.3500',\n",
       "   '3. low': '814.3000',\n",
       "   '4. close': '815.6500',\n",
       "   '5. volume': '598533'},\n",
       "  '2024-08-29': {'1. open': '809.3500',\n",
       "   '2. high': '815.9500',\n",
       "   '3. low': '807.3000',\n",
       "   '4. close': '814.5000',\n",
       "   '5. volume': '271349'},\n",
       "  '2024-08-28': {'1. open': '813.8000',\n",
       "   '2. high': '817.1000',\n",
       "   '3. low': '806.9000',\n",
       "   '4. close': '809.3000',\n",
       "   '5. volume': '196716'},\n",
       "  '2024-08-27': {'1. open': '816.8500',\n",
       "   '2. high': '819.3000',\n",
       "   '3. low': '811.0500',\n",
       "   '4. close': '815.1500',\n",
       "   '5. volume': '464853'},\n",
       "  '2024-08-26': {'1. open': '819.3500',\n",
       "   '2. high': '823.3500',\n",
       "   '3. low': '814.2000',\n",
       "   '4. close': '815.3500',\n",
       "   '5. volume': '1278721'},\n",
       "  '2024-08-23': {'1. open': '821.0500',\n",
       "   '2. high': '821.7000',\n",
       "   '3. low': '814.2000',\n",
       "   '4. close': '815.2500',\n",
       "   '5. volume': '560060'},\n",
       "  '2024-08-22': {'1. open': '819.8500',\n",
       "   '2. high': '823.7000',\n",
       "   '3. low': '817.4000',\n",
       "   '4. close': '820.1500',\n",
       "   '5. volume': '494896'},\n",
       "  '2024-08-21': {'1. open': '820.0000',\n",
       "   '2. high': '821.0000',\n",
       "   '3. low': '811.4000',\n",
       "   '4. close': '815.8000',\n",
       "   '5. volume': '248423'},\n",
       "  '2024-08-20': {'1. open': '818.7500',\n",
       "   '2. high': '822.9000',\n",
       "   '3. low': '813.2000',\n",
       "   '4. close': '820.0000',\n",
       "   '5. volume': '308095'},\n",
       "  '2024-08-19': {'1. open': '814.0500',\n",
       "   '2. high': '825.0000',\n",
       "   '3. low': '812.3500',\n",
       "   '4. close': '813.6500',\n",
       "   '5. volume': '743917'},\n",
       "  '2024-08-16': {'1. open': '803.5000',\n",
       "   '2. high': '815.1000',\n",
       "   '3. low': '803.2000',\n",
       "   '4. close': '812.4500',\n",
       "   '5. volume': '768630'},\n",
       "  '2024-08-14': {'1. open': '800.7000',\n",
       "   '2. high': '809.0000',\n",
       "   '3. low': '800.4000',\n",
       "   '4. close': '802.9500',\n",
       "   '5. volume': '287718'},\n",
       "  '2024-08-13': {'1. open': '813.1000',\n",
       "   '2. high': '819.4000',\n",
       "   '3. low': '795.1000',\n",
       "   '4. close': '797.3000',\n",
       "   '5. volume': '641102'},\n",
       "  '2024-08-12': {'1. open': '819.2000',\n",
       "   '2. high': '822.6000',\n",
       "   '3. low': '810.8500',\n",
       "   '4. close': '813.0000',\n",
       "   '5. volume': '1142861'},\n",
       "  '2024-08-09': {'1. open': '816.8000',\n",
       "   '2. high': '829.9000',\n",
       "   '3. low': '809.8500',\n",
       "   '4. close': '824.2000',\n",
       "   '5. volume': '822817'},\n",
       "  '2024-08-08': {'1. open': '813.8500',\n",
       "   '2. high': '817.9000',\n",
       "   '3. low': '803.0000',\n",
       "   '4. close': '807.6500',\n",
       "   '5. volume': '680135'}}}"
      ]
     },
     "execution_count": 10,
     "metadata": {},
     "output_type": "execute_result"
    }
   ],
   "source": [
    "data"
   ]
  },
  {
   "cell_type": "code",
   "execution_count": 11,
   "metadata": {},
   "outputs": [
    {
     "data": {
      "text/plain": [
       "dict_keys(['Meta Data', 'Time Series (Daily)'])"
      ]
     },
     "execution_count": 11,
     "metadata": {},
     "output_type": "execute_result"
    }
   ],
   "source": [
    "data.keys()"
   ]
  },
  {
   "cell_type": "code",
   "execution_count": 13,
   "metadata": {},
   "outputs": [
    {
     "data": {
      "text/plain": [
       "{'2025-01-02': {'1. open': '795.0000',\n",
       "  '2. high': '802.4000',\n",
       "  '3. low': '786.3000',\n",
       "  '4. close': '801.0500',\n",
       "  '5. volume': '711599'},\n",
       " '2025-01-01': {'1. open': '796.8500',\n",
       "  '2. high': '798.5000',\n",
       "  '3. low': '789.6000',\n",
       "  '4. close': '793.3500',\n",
       "  '5. volume': '356031'},\n",
       " '2024-12-31': {'1. open': '788.7500',\n",
       "  '2. high': '798.9500',\n",
       "  '3. low': '787.0000',\n",
       "  '4. close': '795.0500',\n",
       "  '5. volume': '283620'},\n",
       " '2024-12-30': {'1. open': '802.7000',\n",
       "  '2. high': '808.0000',\n",
       "  '3. low': '785.2000',\n",
       "  '4. close': '788.3000',\n",
       "  '5. volume': '686161'},\n",
       " '2024-12-27': {'1. open': '817.2500',\n",
       "  '2. high': '818.7500',\n",
       "  '3. low': '797.2500',\n",
       "  '4. close': '799.5500',\n",
       "  '5. volume': '1061163'},\n",
       " '2024-12-26': {'1. open': '813.0000',\n",
       "  '2. high': '822.9500',\n",
       "  '3. low': '808.0000',\n",
       "  '4. close': '811.6500',\n",
       "  '5. volume': '194920'},\n",
       " '2024-12-24': {'1. open': '825.0000',\n",
       "  '2. high': '825.5500',\n",
       "  '3. low': '809.2000',\n",
       "  '4. close': '811.8500',\n",
       "  '5. volume': '431577'},\n",
       " '2024-12-23': {'1. open': '818.3500',\n",
       "  '2. high': '823.9000',\n",
       "  '3. low': '812.4000',\n",
       "  '4. close': '820.9500',\n",
       "  '5. volume': '281649'},\n",
       " '2024-12-20': {'1. open': '833.8000',\n",
       "  '2. high': '836.4000',\n",
       "  '3. low': '810.0000',\n",
       "  '4. close': '812.5000',\n",
       "  '5. volume': '467910'},\n",
       " '2024-12-19': {'1. open': '822.0500',\n",
       "  '2. high': '837.9000',\n",
       "  '3. low': '820.1000',\n",
       "  '4. close': '832.8000',\n",
       "  '5. volume': '309033'},\n",
       " '2024-12-18': {'1. open': '850.2000',\n",
       "  '2. high': '850.8000',\n",
       "  '3. low': '836.7000',\n",
       "  '4. close': '839.0500',\n",
       "  '5. volume': '172425'},\n",
       " '2024-12-17': {'1. open': '859.7500',\n",
       "  '2. high': '862.9500',\n",
       "  '3. low': '847.1500',\n",
       "  '4. close': '850.2000',\n",
       "  '5. volume': '143409'},\n",
       " '2024-12-16': {'1. open': '859.0000',\n",
       "  '2. high': '866.2000',\n",
       "  '3. low': '857.8000',\n",
       "  '4. close': '860.7000',\n",
       "  '5. volume': '252691'},\n",
       " '2024-12-13': {'1. open': '853.7000',\n",
       "  '2. high': '863.0000',\n",
       "  '3. low': '835.0000',\n",
       "  '4. close': '861.7000',\n",
       "  '5. volume': '455324'},\n",
       " '2024-12-12': {'1. open': '862.5000',\n",
       "  '2. high': '864.2000',\n",
       "  '3. low': '851.2500',\n",
       "  '4. close': '853.7500',\n",
       "  '5. volume': '179011'},\n",
       " '2024-12-11': {'1. open': '865.7500',\n",
       "  '2. high': '869.7500',\n",
       "  '3. low': '860.8000',\n",
       "  '4. close': '861.5500',\n",
       "  '5. volume': '342069'},\n",
       " '2024-12-10': {'1. open': '862.0000',\n",
       "  '2. high': '868.8500',\n",
       "  '3. low': '858.5000',\n",
       "  '4. close': '867.6000',\n",
       "  '5. volume': '197287'},\n",
       " '2024-12-09': {'1. open': '862.9500',\n",
       "  '2. high': '866.8000',\n",
       "  '3. low': '856.7500',\n",
       "  '4. close': '857.8500',\n",
       "  '5. volume': '646144'},\n",
       " '2024-12-06': {'1. open': '866.9500',\n",
       "  '2. high': '875.5000',\n",
       "  '3. low': '856.8500',\n",
       "  '4. close': '864.0000',\n",
       "  '5. volume': '431320'},\n",
       " '2024-12-05': {'1. open': '861.6500',\n",
       "  '2. high': '871.0000',\n",
       "  '3. low': '855.6500',\n",
       "  '4. close': '864.8500',\n",
       "  '5. volume': '379508'},\n",
       " '2024-12-04': {'1. open': '854.4000',\n",
       "  '2. high': '863.8000',\n",
       "  '3. low': '850.2500',\n",
       "  '4. close': '859.4500',\n",
       "  '5. volume': '679548'},\n",
       " '2024-12-03': {'1. open': '836.4500',\n",
       "  '2. high': '856.6000',\n",
       "  '3. low': '836.4500',\n",
       "  '4. close': '853.9500',\n",
       "  '5. volume': '370485'},\n",
       " '2024-12-02': {'1. open': '836.2000',\n",
       "  '2. high': '842.0000',\n",
       "  '3. low': '832.8000',\n",
       "  '4. close': '836.2000',\n",
       "  '5. volume': '526054'},\n",
       " '2024-11-29': {'1. open': '842.0000',\n",
       "  '2. high': '843.8500',\n",
       "  '3. low': '831.5000',\n",
       "  '4. close': '839.0000',\n",
       "  '5. volume': '757635'},\n",
       " '2024-11-28': {'1. open': '834.9500',\n",
       "  '2. high': '845.7000',\n",
       "  '3. low': '830.3500',\n",
       "  '4. close': '838.7500',\n",
       "  '5. volume': '811586'},\n",
       " '2024-11-27': {'1. open': '839.3000',\n",
       "  '2. high': '842.1500',\n",
       "  '3. low': '832.0000',\n",
       "  '4. close': '834.2000',\n",
       "  '5. volume': '502957'},\n",
       " '2024-11-26': {'1. open': '844.7500',\n",
       "  '2. high': '846.7000',\n",
       "  '3. low': '835.2000',\n",
       "  '4. close': '839.3500',\n",
       "  '5. volume': '448647'},\n",
       " '2024-11-25': {'1. open': '826.2500',\n",
       "  '2. high': '849.3000',\n",
       "  '3. low': '825.9500',\n",
       "  '4. close': '844.7500',\n",
       "  '5. volume': '1612713'},\n",
       " '2024-11-22': {'1. open': '785.6500',\n",
       "  '2. high': '819.7500',\n",
       "  '3. low': '784.3000',\n",
       "  '4. close': '816.0500',\n",
       "  '5. volume': '1534393'},\n",
       " '2024-11-21': {'1. open': '800.0000',\n",
       "  '2. high': '800.0000',\n",
       "  '3. low': '761.6500',\n",
       "  '4. close': '780.8500',\n",
       "  '5. volume': '804079'},\n",
       " '2024-11-19': {'1. open': '817.5500',\n",
       "  '2. high': '820.1000',\n",
       "  '3. low': '800.1000',\n",
       "  '4. close': '802.0000',\n",
       "  '5. volume': '467072'},\n",
       " '2024-11-18': {'1. open': '810.0500',\n",
       "  '2. high': '816.6500',\n",
       "  '3. low': '799.2000',\n",
       "  '4. close': '813.7000',\n",
       "  '5. volume': '378989'},\n",
       " '2024-11-14': {'1. open': '809.9500',\n",
       "  '2. high': '817.8500',\n",
       "  '3. low': '801.1000',\n",
       "  '4. close': '804.0500',\n",
       "  '5. volume': '720597'},\n",
       " '2024-11-13': {'1. open': '822.5000',\n",
       "  '2. high': '831.6500',\n",
       "  '3. low': '804.4500',\n",
       "  '4. close': '808.3500',\n",
       "  '5. volume': '454522'},\n",
       " '2024-11-12': {'1. open': '851.0000',\n",
       "  '2. high': '853.0000',\n",
       "  '3. low': '824.1000',\n",
       "  '4. close': '826.4000',\n",
       "  '5. volume': '467134'},\n",
       " '2024-11-11': {'1. open': '847.0000',\n",
       "  '2. high': '853.6500',\n",
       "  '3. low': '841.4500',\n",
       "  '4. close': '847.8000',\n",
       "  '5. volume': '1417460'},\n",
       " '2024-11-08': {'1. open': '860.0000',\n",
       "  '2. high': '863.6500',\n",
       "  '3. low': '834.3000',\n",
       "  '4. close': '843.2500',\n",
       "  '5. volume': '1106664'},\n",
       " '2024-11-07': {'1. open': '860.0500',\n",
       "  '2. high': '862.4500',\n",
       "  '3. low': '846.7000',\n",
       "  '4. close': '859.2500',\n",
       "  '5. volume': '494821'},\n",
       " '2024-11-06': {'1. open': '850.0000',\n",
       "  '2. high': '861.0000',\n",
       "  '3. low': '846.2000',\n",
       "  '4. close': '854.7500',\n",
       "  '5. volume': '896339'},\n",
       " '2024-11-05': {'1. open': '829.0000',\n",
       "  '2. high': '851.2000',\n",
       "  '3. low': '826.1000',\n",
       "  '4. close': '849.2000',\n",
       "  '5. volume': '1335383'},\n",
       " '2024-11-04': {'1. open': '822.6500',\n",
       "  '2. high': '837.5000',\n",
       "  '3. low': '807.0500',\n",
       "  '4. close': '829.8500',\n",
       "  '5. volume': '458939'},\n",
       " '2024-10-31': {'1. open': '821.9500',\n",
       "  '2. high': '828.0000',\n",
       "  '3. low': '813.4500',\n",
       "  '4. close': '820.5000',\n",
       "  '5. volume': '497763'},\n",
       " '2024-10-30': {'1. open': '830.0000',\n",
       "  '2. high': '832.9000',\n",
       "  '3. low': '821.0500',\n",
       "  '4. close': '822.4000',\n",
       "  '5. volume': '322347'},\n",
       " '2024-10-29': {'1. open': '796.5000',\n",
       "  '2. high': '834.5000',\n",
       "  '3. low': '790.5000',\n",
       "  '4. close': '832.6500',\n",
       "  '5. volume': '1593501'},\n",
       " '2024-10-28': {'1. open': '783.2000',\n",
       "  '2. high': '803.9500',\n",
       "  '3. low': '783.2000',\n",
       "  '4. close': '792.0500',\n",
       "  '5. volume': '675658'},\n",
       " '2024-10-25': {'1. open': '798.4500',\n",
       "  '2. high': '800.0000',\n",
       "  '3. low': '772.0500',\n",
       "  '4. close': '780.6000',\n",
       "  '5. volume': '650630'},\n",
       " '2024-10-24': {'1. open': '786.0500',\n",
       "  '2. high': '796.8000',\n",
       "  '3. low': '784.5000',\n",
       "  '4. close': '794.7000',\n",
       "  '5. volume': '183971'},\n",
       " '2024-10-23': {'1. open': '790.0000',\n",
       "  '2. high': '792.5000',\n",
       "  '3. low': '779.6000',\n",
       "  '4. close': '785.9500',\n",
       "  '5. volume': '467975'},\n",
       " '2024-10-22': {'1. open': '814.1500',\n",
       "  '2. high': '816.3500',\n",
       "  '3. low': '787.6000',\n",
       "  '4. close': '790.4500',\n",
       "  '5. volume': '604778'},\n",
       " '2024-10-21': {'1. open': '822.0500',\n",
       "  '2. high': '826.3500',\n",
       "  '3. low': '809.1000',\n",
       "  '4. close': '814.1500',\n",
       "  '5. volume': '584223'},\n",
       " '2024-10-18': {'1. open': '811.0000',\n",
       "  '2. high': '822.4000',\n",
       "  '3. low': '803.1000',\n",
       "  '4. close': '819.9500',\n",
       "  '5. volume': '429099'},\n",
       " '2024-10-17': {'1. open': '806.0500',\n",
       "  '2. high': '819.2500',\n",
       "  '3. low': '806.0500',\n",
       "  '4. close': '810.9000',\n",
       "  '5. volume': '948591'},\n",
       " '2024-10-16': {'1. open': '801.0500',\n",
       "  '2. high': '808.9000',\n",
       "  '3. low': '801.0500',\n",
       "  '4. close': '805.8500',\n",
       "  '5. volume': '142406'},\n",
       " '2024-10-15': {'1. open': '805.0000',\n",
       "  '2. high': '807.6000',\n",
       "  '3. low': '801.5000',\n",
       "  '4. close': '804.6000',\n",
       "  '5. volume': '314354'},\n",
       " '2024-10-14': {'1. open': '800.1500',\n",
       "  '2. high': '809.0000',\n",
       "  '3. low': '800.1500',\n",
       "  '4. close': '805.2500',\n",
       "  '5. volume': '755286'},\n",
       " '2024-10-11': {'1. open': '797.0000',\n",
       "  '2. high': '802.5000',\n",
       "  '3. low': '793.0000',\n",
       "  '4. close': '800.0000',\n",
       "  '5. volume': '381115'},\n",
       " '2024-10-10': {'1. open': '799.9000',\n",
       "  '2. high': '804.3500',\n",
       "  '3. low': '795.0500',\n",
       "  '4. close': '796.9500',\n",
       "  '5. volume': '163966'},\n",
       " '2024-10-09': {'1. open': '787.9500',\n",
       "  '2. high': '805.0000',\n",
       "  '3. low': '782.5500',\n",
       "  '4. close': '797.0000',\n",
       "  '5. volume': '807499'},\n",
       " '2024-10-08': {'1. open': '771.1000',\n",
       "  '2. high': '784.5000',\n",
       "  '3. low': '771.1000',\n",
       "  '4. close': '782.0500',\n",
       "  '5. volume': '295906'},\n",
       " '2024-10-07': {'1. open': '797.0500',\n",
       "  '2. high': '803.9000',\n",
       "  '3. low': '765.5500',\n",
       "  '4. close': '769.8000',\n",
       "  '5. volume': '1587972'},\n",
       " '2024-10-04': {'1. open': '790.3000',\n",
       "  '2. high': '809.6500',\n",
       "  '3. low': '785.2000',\n",
       "  '4. close': '796.6000',\n",
       "  '5. volume': '1154183'},\n",
       " '2024-10-03': {'1. open': '787.4000',\n",
       "  '2. high': '803.9500',\n",
       "  '3. low': '784.3500',\n",
       "  '4. close': '794.3500',\n",
       "  '5. volume': '768391'},\n",
       " '2024-10-01': {'1. open': '788.9500',\n",
       "  '2. high': '799.7500',\n",
       "  '3. low': '788.2500',\n",
       "  '4. close': '797.0000',\n",
       "  '5. volume': '227883'},\n",
       " '2024-09-30': {'1. open': '801.1500',\n",
       "  '2. high': '802.5000',\n",
       "  '3. low': '786.1500',\n",
       "  '4. close': '787.6000',\n",
       "  '5. volume': '1054719'},\n",
       " '2024-09-27': {'1. open': '802.0000',\n",
       "  '2. high': '807.8500',\n",
       "  '3. low': '798.4000',\n",
       "  '4. close': '802.6500',\n",
       "  '5. volume': '669965'},\n",
       " '2024-09-26': {'1. open': '795.1500',\n",
       "  '2. high': '803.0000',\n",
       "  '3. low': '791.5500',\n",
       "  '4. close': '801.9000',\n",
       "  '5. volume': '432917'},\n",
       " '2024-09-25': {'1. open': '798.2500',\n",
       "  '2. high': '798.2500',\n",
       "  '3. low': '788.6500',\n",
       "  '4. close': '792.9500',\n",
       "  '5. volume': '524539'},\n",
       " '2024-09-24': {'1. open': '800.0000',\n",
       "  '2. high': '804.1000',\n",
       "  '3. low': '796.6500',\n",
       "  '4. close': '798.3500',\n",
       "  '5. volume': '427650'},\n",
       " '2024-09-23': {'1. open': '785.0500',\n",
       "  '2. high': '804.9000',\n",
       "  '3. low': '785.0000',\n",
       "  '4. close': '801.8000',\n",
       "  '5. volume': '1415077'},\n",
       " '2024-09-20': {'1. open': '794.0500',\n",
       "  '2. high': '794.4000',\n",
       "  '3. low': '779.5000',\n",
       "  '4. close': '781.9000',\n",
       "  '5. volume': '1481791'},\n",
       " '2024-09-19': {'1. open': '794.1500',\n",
       "  '2. high': '801.2500',\n",
       "  '3. low': '784.1000',\n",
       "  '4. close': '790.3500',\n",
       "  '5. volume': '402071'},\n",
       " '2024-09-18': {'1. open': '783.5500',\n",
       "  '2. high': '794.5000',\n",
       "  '3. low': '781.3000',\n",
       "  '4. close': '792.3500',\n",
       "  '5. volume': '681430'},\n",
       " '2024-09-17': {'1. open': '786.0000',\n",
       "  '2. high': '787.5000',\n",
       "  '3. low': '780.6500',\n",
       "  '4. close': '783.0500',\n",
       "  '5. volume': '240500'},\n",
       " '2024-09-16': {'1. open': '793.4500',\n",
       "  '2. high': '795.3000',\n",
       "  '3. low': '784.1000',\n",
       "  '4. close': '785.4500',\n",
       "  '5. volume': '624666'},\n",
       " '2024-09-13': {'1. open': '790.8500',\n",
       "  '2. high': '795.0000',\n",
       "  '3. low': '784.8500',\n",
       "  '4. close': '790.5500',\n",
       "  '5. volume': '1064575'},\n",
       " '2024-09-12': {'1. open': '775.0000',\n",
       "  '2. high': '789.7000',\n",
       "  '3. low': '772.9000',\n",
       "  '4. close': '788.0500',\n",
       "  '5. volume': '312891'},\n",
       " '2024-09-11': {'1. open': '781.6500',\n",
       "  '2. high': '788.0000',\n",
       "  '3. low': '765.6500',\n",
       "  '4. close': '768.3000',\n",
       "  '5. volume': '521913'},\n",
       " '2024-09-10': {'1. open': '788.6500',\n",
       "  '2. high': '788.9500',\n",
       "  '3. low': '777.6500',\n",
       "  '4. close': '782.6000',\n",
       "  '5. volume': '582017'},\n",
       " '2024-09-09': {'1. open': '785.0000',\n",
       "  '2. high': '788.0500',\n",
       "  '3. low': '771.3000',\n",
       "  '4. close': '784.3000',\n",
       "  '5. volume': '1433332'},\n",
       " '2024-09-06': {'1. open': '813.9000',\n",
       "  '2. high': '813.9000',\n",
       "  '3. low': '777.0500',\n",
       "  '4. close': '782.6000',\n",
       "  '5. volume': '2498701'},\n",
       " '2024-09-05': {'1. open': '818.0000',\n",
       "  '2. high': '821.9000',\n",
       "  '3. low': '814.3000',\n",
       "  '4. close': '818.6000',\n",
       "  '5. volume': '318031'},\n",
       " '2024-09-04': {'1. open': '813.0000',\n",
       "  '2. high': '818.6500',\n",
       "  '3. low': '813.0000',\n",
       "  '4. close': '816.5000',\n",
       "  '5. volume': '278846'},\n",
       " '2024-09-03': {'1. open': '821.2000',\n",
       "  '2. high': '825.9000',\n",
       "  '3. low': '816.7500',\n",
       "  '4. close': '824.7500',\n",
       "  '5. volume': '293326'},\n",
       " '2024-09-02': {'1. open': '816.4500',\n",
       "  '2. high': '825.3000',\n",
       "  '3. low': '813.0000',\n",
       "  '4. close': '822.1000',\n",
       "  '5. volume': '1129356'},\n",
       " '2024-08-30': {'1. open': '818.4500',\n",
       "  '2. high': '820.3500',\n",
       "  '3. low': '814.3000',\n",
       "  '4. close': '815.6500',\n",
       "  '5. volume': '598533'},\n",
       " '2024-08-29': {'1. open': '809.3500',\n",
       "  '2. high': '815.9500',\n",
       "  '3. low': '807.3000',\n",
       "  '4. close': '814.5000',\n",
       "  '5. volume': '271349'},\n",
       " '2024-08-28': {'1. open': '813.8000',\n",
       "  '2. high': '817.1000',\n",
       "  '3. low': '806.9000',\n",
       "  '4. close': '809.3000',\n",
       "  '5. volume': '196716'},\n",
       " '2024-08-27': {'1. open': '816.8500',\n",
       "  '2. high': '819.3000',\n",
       "  '3. low': '811.0500',\n",
       "  '4. close': '815.1500',\n",
       "  '5. volume': '464853'},\n",
       " '2024-08-26': {'1. open': '819.3500',\n",
       "  '2. high': '823.3500',\n",
       "  '3. low': '814.2000',\n",
       "  '4. close': '815.3500',\n",
       "  '5. volume': '1278721'},\n",
       " '2024-08-23': {'1. open': '821.0500',\n",
       "  '2. high': '821.7000',\n",
       "  '3. low': '814.2000',\n",
       "  '4. close': '815.2500',\n",
       "  '5. volume': '560060'},\n",
       " '2024-08-22': {'1. open': '819.8500',\n",
       "  '2. high': '823.7000',\n",
       "  '3. low': '817.4000',\n",
       "  '4. close': '820.1500',\n",
       "  '5. volume': '494896'},\n",
       " '2024-08-21': {'1. open': '820.0000',\n",
       "  '2. high': '821.0000',\n",
       "  '3. low': '811.4000',\n",
       "  '4. close': '815.8000',\n",
       "  '5. volume': '248423'},\n",
       " '2024-08-20': {'1. open': '818.7500',\n",
       "  '2. high': '822.9000',\n",
       "  '3. low': '813.2000',\n",
       "  '4. close': '820.0000',\n",
       "  '5. volume': '308095'},\n",
       " '2024-08-19': {'1. open': '814.0500',\n",
       "  '2. high': '825.0000',\n",
       "  '3. low': '812.3500',\n",
       "  '4. close': '813.6500',\n",
       "  '5. volume': '743917'},\n",
       " '2024-08-16': {'1. open': '803.5000',\n",
       "  '2. high': '815.1000',\n",
       "  '3. low': '803.2000',\n",
       "  '4. close': '812.4500',\n",
       "  '5. volume': '768630'},\n",
       " '2024-08-14': {'1. open': '800.7000',\n",
       "  '2. high': '809.0000',\n",
       "  '3. low': '800.4000',\n",
       "  '4. close': '802.9500',\n",
       "  '5. volume': '287718'},\n",
       " '2024-08-13': {'1. open': '813.1000',\n",
       "  '2. high': '819.4000',\n",
       "  '3. low': '795.1000',\n",
       "  '4. close': '797.3000',\n",
       "  '5. volume': '641102'},\n",
       " '2024-08-12': {'1. open': '819.2000',\n",
       "  '2. high': '822.6000',\n",
       "  '3. low': '810.8500',\n",
       "  '4. close': '813.0000',\n",
       "  '5. volume': '1142861'},\n",
       " '2024-08-09': {'1. open': '816.8000',\n",
       "  '2. high': '829.9000',\n",
       "  '3. low': '809.8500',\n",
       "  '4. close': '824.2000',\n",
       "  '5. volume': '822817'},\n",
       " '2024-08-08': {'1. open': '813.8500',\n",
       "  '2. high': '817.9000',\n",
       "  '3. low': '803.0000',\n",
       "  '4. close': '807.6500',\n",
       "  '5. volume': '680135'}}"
      ]
     },
     "execution_count": 13,
     "metadata": {},
     "output_type": "execute_result"
    }
   ],
   "source": [
    "daily = data[\"Time Series (Daily)\"]\n",
    "daily"
   ]
  },
  {
   "cell_type": "code",
   "execution_count": 14,
   "metadata": {},
   "outputs": [
    {
     "data": {
      "text/html": [
       "<div>\n",
       "<style scoped>\n",
       "    .dataframe tbody tr th:only-of-type {\n",
       "        vertical-align: middle;\n",
       "    }\n",
       "\n",
       "    .dataframe tbody tr th {\n",
       "        vertical-align: top;\n",
       "    }\n",
       "\n",
       "    .dataframe thead th {\n",
       "        text-align: right;\n",
       "    }\n",
       "</style>\n",
       "<table border=\"1\" class=\"dataframe\">\n",
       "  <thead>\n",
       "    <tr style=\"text-align: right;\">\n",
       "      <th></th>\n",
       "      <th>1. open</th>\n",
       "      <th>2. high</th>\n",
       "      <th>3. low</th>\n",
       "      <th>4. close</th>\n",
       "      <th>5. volume</th>\n",
       "    </tr>\n",
       "  </thead>\n",
       "  <tbody>\n",
       "    <tr>\n",
       "      <th>2025-01-02</th>\n",
       "      <td>795.0000</td>\n",
       "      <td>802.4000</td>\n",
       "      <td>786.3000</td>\n",
       "      <td>801.0500</td>\n",
       "      <td>711599</td>\n",
       "    </tr>\n",
       "    <tr>\n",
       "      <th>2025-01-01</th>\n",
       "      <td>796.8500</td>\n",
       "      <td>798.5000</td>\n",
       "      <td>789.6000</td>\n",
       "      <td>793.3500</td>\n",
       "      <td>356031</td>\n",
       "    </tr>\n",
       "    <tr>\n",
       "      <th>2024-12-31</th>\n",
       "      <td>788.7500</td>\n",
       "      <td>798.9500</td>\n",
       "      <td>787.0000</td>\n",
       "      <td>795.0500</td>\n",
       "      <td>283620</td>\n",
       "    </tr>\n",
       "    <tr>\n",
       "      <th>2024-12-30</th>\n",
       "      <td>802.7000</td>\n",
       "      <td>808.0000</td>\n",
       "      <td>785.2000</td>\n",
       "      <td>788.3000</td>\n",
       "      <td>686161</td>\n",
       "    </tr>\n",
       "    <tr>\n",
       "      <th>2024-12-27</th>\n",
       "      <td>817.2500</td>\n",
       "      <td>818.7500</td>\n",
       "      <td>797.2500</td>\n",
       "      <td>799.5500</td>\n",
       "      <td>1061163</td>\n",
       "    </tr>\n",
       "    <tr>\n",
       "      <th>...</th>\n",
       "      <td>...</td>\n",
       "      <td>...</td>\n",
       "      <td>...</td>\n",
       "      <td>...</td>\n",
       "      <td>...</td>\n",
       "    </tr>\n",
       "    <tr>\n",
       "      <th>2024-08-14</th>\n",
       "      <td>800.7000</td>\n",
       "      <td>809.0000</td>\n",
       "      <td>800.4000</td>\n",
       "      <td>802.9500</td>\n",
       "      <td>287718</td>\n",
       "    </tr>\n",
       "    <tr>\n",
       "      <th>2024-08-13</th>\n",
       "      <td>813.1000</td>\n",
       "      <td>819.4000</td>\n",
       "      <td>795.1000</td>\n",
       "      <td>797.3000</td>\n",
       "      <td>641102</td>\n",
       "    </tr>\n",
       "    <tr>\n",
       "      <th>2024-08-12</th>\n",
       "      <td>819.2000</td>\n",
       "      <td>822.6000</td>\n",
       "      <td>810.8500</td>\n",
       "      <td>813.0000</td>\n",
       "      <td>1142861</td>\n",
       "    </tr>\n",
       "    <tr>\n",
       "      <th>2024-08-09</th>\n",
       "      <td>816.8000</td>\n",
       "      <td>829.9000</td>\n",
       "      <td>809.8500</td>\n",
       "      <td>824.2000</td>\n",
       "      <td>822817</td>\n",
       "    </tr>\n",
       "    <tr>\n",
       "      <th>2024-08-08</th>\n",
       "      <td>813.8500</td>\n",
       "      <td>817.9000</td>\n",
       "      <td>803.0000</td>\n",
       "      <td>807.6500</td>\n",
       "      <td>680135</td>\n",
       "    </tr>\n",
       "  </tbody>\n",
       "</table>\n",
       "<p>100 rows × 5 columns</p>\n",
       "</div>"
      ],
      "text/plain": [
       "             1. open   2. high    3. low  4. close 5. volume\n",
       "2025-01-02  795.0000  802.4000  786.3000  801.0500    711599\n",
       "2025-01-01  796.8500  798.5000  789.6000  793.3500    356031\n",
       "2024-12-31  788.7500  798.9500  787.0000  795.0500    283620\n",
       "2024-12-30  802.7000  808.0000  785.2000  788.3000    686161\n",
       "2024-12-27  817.2500  818.7500  797.2500  799.5500   1061163\n",
       "...              ...       ...       ...       ...       ...\n",
       "2024-08-14  800.7000  809.0000  800.4000  802.9500    287718\n",
       "2024-08-13  813.1000  819.4000  795.1000  797.3000    641102\n",
       "2024-08-12  819.2000  822.6000  810.8500  813.0000   1142861\n",
       "2024-08-09  816.8000  829.9000  809.8500  824.2000    822817\n",
       "2024-08-08  813.8500  817.9000  803.0000  807.6500    680135\n",
       "\n",
       "[100 rows x 5 columns]"
      ]
     },
     "execution_count": 14,
     "metadata": {},
     "output_type": "execute_result"
    }
   ],
   "source": [
    "import pandas as pd\n",
    "df = pd.DataFrame(daily).T\n",
    "df\n"
   ]
  },
  {
   "cell_type": "code",
   "execution_count": 15,
   "metadata": {},
   "outputs": [
    {
     "data": {
      "text/plain": [
       "1. open      object\n",
       "2. high      object\n",
       "3. low       object\n",
       "4. close     object\n",
       "5. volume    object\n",
       "dtype: object"
      ]
     },
     "execution_count": 15,
     "metadata": {},
     "output_type": "execute_result"
    }
   ],
   "source": [
    "df.dtypes"
   ]
  },
  {
   "cell_type": "code",
   "execution_count": 21,
   "metadata": {},
   "outputs": [
    {
     "data": {
      "text/html": [
       "<div>\n",
       "<style scoped>\n",
       "    .dataframe tbody tr th:only-of-type {\n",
       "        vertical-align: middle;\n",
       "    }\n",
       "\n",
       "    .dataframe tbody tr th {\n",
       "        vertical-align: top;\n",
       "    }\n",
       "\n",
       "    .dataframe thead th {\n",
       "        text-align: right;\n",
       "    }\n",
       "</style>\n",
       "<table border=\"1\" class=\"dataframe\">\n",
       "  <thead>\n",
       "    <tr style=\"text-align: right;\">\n",
       "      <th></th>\n",
       "      <th>1. open</th>\n",
       "      <th>2. high</th>\n",
       "      <th>3. low</th>\n",
       "      <th>4. close</th>\n",
       "      <th>5. volume</th>\n",
       "    </tr>\n",
       "  </thead>\n",
       "  <tbody>\n",
       "    <tr>\n",
       "      <th>2025-01-02</th>\n",
       "      <td>795.0</td>\n",
       "      <td>802.4</td>\n",
       "      <td>786.3</td>\n",
       "      <td>801.0</td>\n",
       "      <td>711599.0</td>\n",
       "    </tr>\n",
       "    <tr>\n",
       "      <th>2025-01-01</th>\n",
       "      <td>796.8</td>\n",
       "      <td>798.5</td>\n",
       "      <td>789.6</td>\n",
       "      <td>793.4</td>\n",
       "      <td>356031.0</td>\n",
       "    </tr>\n",
       "    <tr>\n",
       "      <th>2024-12-31</th>\n",
       "      <td>788.8</td>\n",
       "      <td>799.0</td>\n",
       "      <td>787.0</td>\n",
       "      <td>795.0</td>\n",
       "      <td>283620.0</td>\n",
       "    </tr>\n",
       "    <tr>\n",
       "      <th>2024-12-30</th>\n",
       "      <td>802.7</td>\n",
       "      <td>808.0</td>\n",
       "      <td>785.2</td>\n",
       "      <td>788.3</td>\n",
       "      <td>686161.0</td>\n",
       "    </tr>\n",
       "    <tr>\n",
       "      <th>2024-12-27</th>\n",
       "      <td>817.2</td>\n",
       "      <td>818.8</td>\n",
       "      <td>797.2</td>\n",
       "      <td>799.6</td>\n",
       "      <td>1061163.0</td>\n",
       "    </tr>\n",
       "    <tr>\n",
       "      <th>...</th>\n",
       "      <td>...</td>\n",
       "      <td>...</td>\n",
       "      <td>...</td>\n",
       "      <td>...</td>\n",
       "      <td>...</td>\n",
       "    </tr>\n",
       "    <tr>\n",
       "      <th>2024-08-14</th>\n",
       "      <td>800.7</td>\n",
       "      <td>809.0</td>\n",
       "      <td>800.4</td>\n",
       "      <td>803.0</td>\n",
       "      <td>287718.0</td>\n",
       "    </tr>\n",
       "    <tr>\n",
       "      <th>2024-08-13</th>\n",
       "      <td>813.1</td>\n",
       "      <td>819.4</td>\n",
       "      <td>795.1</td>\n",
       "      <td>797.3</td>\n",
       "      <td>641102.0</td>\n",
       "    </tr>\n",
       "    <tr>\n",
       "      <th>2024-08-12</th>\n",
       "      <td>819.2</td>\n",
       "      <td>822.6</td>\n",
       "      <td>810.8</td>\n",
       "      <td>813.0</td>\n",
       "      <td>1142861.0</td>\n",
       "    </tr>\n",
       "    <tr>\n",
       "      <th>2024-08-09</th>\n",
       "      <td>816.8</td>\n",
       "      <td>829.9</td>\n",
       "      <td>809.8</td>\n",
       "      <td>824.2</td>\n",
       "      <td>822817.0</td>\n",
       "    </tr>\n",
       "    <tr>\n",
       "      <th>2024-08-08</th>\n",
       "      <td>813.8</td>\n",
       "      <td>817.9</td>\n",
       "      <td>803.0</td>\n",
       "      <td>807.6</td>\n",
       "      <td>680135.0</td>\n",
       "    </tr>\n",
       "  </tbody>\n",
       "</table>\n",
       "<p>100 rows × 5 columns</p>\n",
       "</div>"
      ],
      "text/plain": [
       "            1. open  2. high  3. low  4. close  5. volume\n",
       "2025-01-02    795.0    802.4   786.3     801.0   711599.0\n",
       "2025-01-01    796.8    798.5   789.6     793.4   356031.0\n",
       "2024-12-31    788.8    799.0   787.0     795.0   283620.0\n",
       "2024-12-30    802.7    808.0   785.2     788.3   686161.0\n",
       "2024-12-27    817.2    818.8   797.2     799.6  1061163.0\n",
       "...             ...      ...     ...       ...        ...\n",
       "2024-08-14    800.7    809.0   800.4     803.0   287718.0\n",
       "2024-08-13    813.1    819.4   795.1     797.3   641102.0\n",
       "2024-08-12    819.2    822.6   810.8     813.0  1142861.0\n",
       "2024-08-09    816.8    829.9   809.8     824.2   822817.0\n",
       "2024-08-08    813.8    817.9   803.0     807.6   680135.0\n",
       "\n",
       "[100 rows x 5 columns]"
      ]
     },
     "execution_count": 21,
     "metadata": {},
     "output_type": "execute_result"
    }
   ],
   "source": [
    "df = df.astype(float).round(2)\n",
    "df"
   ]
  },
  {
   "cell_type": "code",
   "execution_count": 17,
   "metadata": {},
   "outputs": [
    {
     "data": {
      "text/plain": [
       "1. open      float64\n",
       "2. high      float64\n",
       "3. low       float64\n",
       "4. close     float64\n",
       "5. volume    float64\n",
       "dtype: object"
      ]
     },
     "execution_count": 17,
     "metadata": {},
     "output_type": "execute_result"
    }
   ],
   "source": [
    "df.dtypes"
   ]
  },
  {
   "cell_type": "code",
   "execution_count": 20,
   "metadata": {},
   "outputs": [
    {
     "data": {
      "text/plain": [
       "DatetimeIndex(['2025-01-02', '2025-01-01', '2024-12-31', '2024-12-30',\n",
       "               '2024-12-27', '2024-12-26', '2024-12-24', '2024-12-23',\n",
       "               '2024-12-20', '2024-12-19', '2024-12-18', '2024-12-17',\n",
       "               '2024-12-16', '2024-12-13', '2024-12-12', '2024-12-11',\n",
       "               '2024-12-10', '2024-12-09', '2024-12-06', '2024-12-05',\n",
       "               '2024-12-04', '2024-12-03', '2024-12-02', '2024-11-29',\n",
       "               '2024-11-28', '2024-11-27', '2024-11-26', '2024-11-25',\n",
       "               '2024-11-22', '2024-11-21', '2024-11-19', '2024-11-18',\n",
       "               '2024-11-14', '2024-11-13', '2024-11-12', '2024-11-11',\n",
       "               '2024-11-08', '2024-11-07', '2024-11-06', '2024-11-05',\n",
       "               '2024-11-04', '2024-10-31', '2024-10-30', '2024-10-29',\n",
       "               '2024-10-28', '2024-10-25', '2024-10-24', '2024-10-23',\n",
       "               '2024-10-22', '2024-10-21', '2024-10-18', '2024-10-17',\n",
       "               '2024-10-16', '2024-10-15', '2024-10-14', '2024-10-11',\n",
       "               '2024-10-10', '2024-10-09', '2024-10-08', '2024-10-07',\n",
       "               '2024-10-04', '2024-10-03', '2024-10-01', '2024-09-30',\n",
       "               '2024-09-27', '2024-09-26', '2024-09-25', '2024-09-24',\n",
       "               '2024-09-23', '2024-09-20', '2024-09-19', '2024-09-18',\n",
       "               '2024-09-17', '2024-09-16', '2024-09-13', '2024-09-12',\n",
       "               '2024-09-11', '2024-09-10', '2024-09-09', '2024-09-06',\n",
       "               '2024-09-05', '2024-09-04', '2024-09-03', '2024-09-02',\n",
       "               '2024-08-30', '2024-08-29', '2024-08-28', '2024-08-27',\n",
       "               '2024-08-26', '2024-08-23', '2024-08-22', '2024-08-21',\n",
       "               '2024-08-20', '2024-08-19', '2024-08-16', '2024-08-14',\n",
       "               '2024-08-13', '2024-08-12', '2024-08-09', '2024-08-08'],\n",
       "              dtype='datetime64[ns]', freq=None)"
      ]
     },
     "execution_count": 20,
     "metadata": {},
     "output_type": "execute_result"
    }
   ],
   "source": [
    "## Convert index to datatime\n",
    "df.index = pd.to_datetime(df.index)\n",
    "df.index"
   ]
  },
  {
   "cell_type": "code",
   "execution_count": 22,
   "metadata": {},
   "outputs": [
    {
     "data": {
      "text/html": [
       "<div>\n",
       "<style scoped>\n",
       "    .dataframe tbody tr th:only-of-type {\n",
       "        vertical-align: middle;\n",
       "    }\n",
       "\n",
       "    .dataframe tbody tr th {\n",
       "        vertical-align: top;\n",
       "    }\n",
       "\n",
       "    .dataframe thead th {\n",
       "        text-align: right;\n",
       "    }\n",
       "</style>\n",
       "<table border=\"1\" class=\"dataframe\">\n",
       "  <thead>\n",
       "    <tr style=\"text-align: right;\">\n",
       "      <th></th>\n",
       "      <th>1. open</th>\n",
       "      <th>2. high</th>\n",
       "      <th>3. low</th>\n",
       "      <th>4. close</th>\n",
       "      <th>5. volume</th>\n",
       "    </tr>\n",
       "  </thead>\n",
       "  <tbody>\n",
       "    <tr>\n",
       "      <th>2025-01-02</th>\n",
       "      <td>795.0</td>\n",
       "      <td>802.4</td>\n",
       "      <td>786.3</td>\n",
       "      <td>801.0</td>\n",
       "      <td>711599.0</td>\n",
       "    </tr>\n",
       "    <tr>\n",
       "      <th>2025-01-01</th>\n",
       "      <td>796.8</td>\n",
       "      <td>798.5</td>\n",
       "      <td>789.6</td>\n",
       "      <td>793.4</td>\n",
       "      <td>356031.0</td>\n",
       "    </tr>\n",
       "    <tr>\n",
       "      <th>2024-12-31</th>\n",
       "      <td>788.8</td>\n",
       "      <td>799.0</td>\n",
       "      <td>787.0</td>\n",
       "      <td>795.0</td>\n",
       "      <td>283620.0</td>\n",
       "    </tr>\n",
       "    <tr>\n",
       "      <th>2024-12-30</th>\n",
       "      <td>802.7</td>\n",
       "      <td>808.0</td>\n",
       "      <td>785.2</td>\n",
       "      <td>788.3</td>\n",
       "      <td>686161.0</td>\n",
       "    </tr>\n",
       "    <tr>\n",
       "      <th>2024-12-27</th>\n",
       "      <td>817.2</td>\n",
       "      <td>818.8</td>\n",
       "      <td>797.2</td>\n",
       "      <td>799.6</td>\n",
       "      <td>1061163.0</td>\n",
       "    </tr>\n",
       "    <tr>\n",
       "      <th>...</th>\n",
       "      <td>...</td>\n",
       "      <td>...</td>\n",
       "      <td>...</td>\n",
       "      <td>...</td>\n",
       "      <td>...</td>\n",
       "    </tr>\n",
       "    <tr>\n",
       "      <th>2024-08-14</th>\n",
       "      <td>800.7</td>\n",
       "      <td>809.0</td>\n",
       "      <td>800.4</td>\n",
       "      <td>803.0</td>\n",
       "      <td>287718.0</td>\n",
       "    </tr>\n",
       "    <tr>\n",
       "      <th>2024-08-13</th>\n",
       "      <td>813.1</td>\n",
       "      <td>819.4</td>\n",
       "      <td>795.1</td>\n",
       "      <td>797.3</td>\n",
       "      <td>641102.0</td>\n",
       "    </tr>\n",
       "    <tr>\n",
       "      <th>2024-08-12</th>\n",
       "      <td>819.2</td>\n",
       "      <td>822.6</td>\n",
       "      <td>810.8</td>\n",
       "      <td>813.0</td>\n",
       "      <td>1142861.0</td>\n",
       "    </tr>\n",
       "    <tr>\n",
       "      <th>2024-08-09</th>\n",
       "      <td>816.8</td>\n",
       "      <td>829.9</td>\n",
       "      <td>809.8</td>\n",
       "      <td>824.2</td>\n",
       "      <td>822817.0</td>\n",
       "    </tr>\n",
       "    <tr>\n",
       "      <th>2024-08-08</th>\n",
       "      <td>813.8</td>\n",
       "      <td>817.9</td>\n",
       "      <td>803.0</td>\n",
       "      <td>807.6</td>\n",
       "      <td>680135.0</td>\n",
       "    </tr>\n",
       "  </tbody>\n",
       "</table>\n",
       "<p>100 rows × 5 columns</p>\n",
       "</div>"
      ],
      "text/plain": [
       "            1. open  2. high  3. low  4. close  5. volume\n",
       "2025-01-02    795.0    802.4   786.3     801.0   711599.0\n",
       "2025-01-01    796.8    798.5   789.6     793.4   356031.0\n",
       "2024-12-31    788.8    799.0   787.0     795.0   283620.0\n",
       "2024-12-30    802.7    808.0   785.2     788.3   686161.0\n",
       "2024-12-27    817.2    818.8   797.2     799.6  1061163.0\n",
       "...             ...      ...     ...       ...        ...\n",
       "2024-08-14    800.7    809.0   800.4     803.0   287718.0\n",
       "2024-08-13    813.1    819.4   795.1     797.3   641102.0\n",
       "2024-08-12    819.2    822.6   810.8     813.0  1142861.0\n",
       "2024-08-09    816.8    829.9   809.8     824.2   822817.0\n",
       "2024-08-08    813.8    817.9   803.0     807.6   680135.0\n",
       "\n",
       "[100 rows x 5 columns]"
      ]
     },
     "execution_count": 22,
     "metadata": {},
     "output_type": "execute_result"
    }
   ],
   "source": [
    "df"
   ]
  },
  {
   "cell_type": "code",
   "execution_count": 23,
   "metadata": {},
   "outputs": [],
   "source": [
    "df.index.name = \"Date\""
   ]
  },
  {
   "cell_type": "code",
   "execution_count": 24,
   "metadata": {},
   "outputs": [
    {
     "data": {
      "text/html": [
       "<div>\n",
       "<style scoped>\n",
       "    .dataframe tbody tr th:only-of-type {\n",
       "        vertical-align: middle;\n",
       "    }\n",
       "\n",
       "    .dataframe tbody tr th {\n",
       "        vertical-align: top;\n",
       "    }\n",
       "\n",
       "    .dataframe thead th {\n",
       "        text-align: right;\n",
       "    }\n",
       "</style>\n",
       "<table border=\"1\" class=\"dataframe\">\n",
       "  <thead>\n",
       "    <tr style=\"text-align: right;\">\n",
       "      <th></th>\n",
       "      <th>1. open</th>\n",
       "      <th>2. high</th>\n",
       "      <th>3. low</th>\n",
       "      <th>4. close</th>\n",
       "      <th>5. volume</th>\n",
       "    </tr>\n",
       "    <tr>\n",
       "      <th>Date</th>\n",
       "      <th></th>\n",
       "      <th></th>\n",
       "      <th></th>\n",
       "      <th></th>\n",
       "      <th></th>\n",
       "    </tr>\n",
       "  </thead>\n",
       "  <tbody>\n",
       "    <tr>\n",
       "      <th>2025-01-02</th>\n",
       "      <td>795.0</td>\n",
       "      <td>802.4</td>\n",
       "      <td>786.3</td>\n",
       "      <td>801.0</td>\n",
       "      <td>711599.0</td>\n",
       "    </tr>\n",
       "    <tr>\n",
       "      <th>2025-01-01</th>\n",
       "      <td>796.8</td>\n",
       "      <td>798.5</td>\n",
       "      <td>789.6</td>\n",
       "      <td>793.4</td>\n",
       "      <td>356031.0</td>\n",
       "    </tr>\n",
       "    <tr>\n",
       "      <th>2024-12-31</th>\n",
       "      <td>788.8</td>\n",
       "      <td>799.0</td>\n",
       "      <td>787.0</td>\n",
       "      <td>795.0</td>\n",
       "      <td>283620.0</td>\n",
       "    </tr>\n",
       "    <tr>\n",
       "      <th>2024-12-30</th>\n",
       "      <td>802.7</td>\n",
       "      <td>808.0</td>\n",
       "      <td>785.2</td>\n",
       "      <td>788.3</td>\n",
       "      <td>686161.0</td>\n",
       "    </tr>\n",
       "    <tr>\n",
       "      <th>2024-12-27</th>\n",
       "      <td>817.2</td>\n",
       "      <td>818.8</td>\n",
       "      <td>797.2</td>\n",
       "      <td>799.6</td>\n",
       "      <td>1061163.0</td>\n",
       "    </tr>\n",
       "    <tr>\n",
       "      <th>...</th>\n",
       "      <td>...</td>\n",
       "      <td>...</td>\n",
       "      <td>...</td>\n",
       "      <td>...</td>\n",
       "      <td>...</td>\n",
       "    </tr>\n",
       "    <tr>\n",
       "      <th>2024-08-14</th>\n",
       "      <td>800.7</td>\n",
       "      <td>809.0</td>\n",
       "      <td>800.4</td>\n",
       "      <td>803.0</td>\n",
       "      <td>287718.0</td>\n",
       "    </tr>\n",
       "    <tr>\n",
       "      <th>2024-08-13</th>\n",
       "      <td>813.1</td>\n",
       "      <td>819.4</td>\n",
       "      <td>795.1</td>\n",
       "      <td>797.3</td>\n",
       "      <td>641102.0</td>\n",
       "    </tr>\n",
       "    <tr>\n",
       "      <th>2024-08-12</th>\n",
       "      <td>819.2</td>\n",
       "      <td>822.6</td>\n",
       "      <td>810.8</td>\n",
       "      <td>813.0</td>\n",
       "      <td>1142861.0</td>\n",
       "    </tr>\n",
       "    <tr>\n",
       "      <th>2024-08-09</th>\n",
       "      <td>816.8</td>\n",
       "      <td>829.9</td>\n",
       "      <td>809.8</td>\n",
       "      <td>824.2</td>\n",
       "      <td>822817.0</td>\n",
       "    </tr>\n",
       "    <tr>\n",
       "      <th>2024-08-08</th>\n",
       "      <td>813.8</td>\n",
       "      <td>817.9</td>\n",
       "      <td>803.0</td>\n",
       "      <td>807.6</td>\n",
       "      <td>680135.0</td>\n",
       "    </tr>\n",
       "  </tbody>\n",
       "</table>\n",
       "<p>100 rows × 5 columns</p>\n",
       "</div>"
      ],
      "text/plain": [
       "            1. open  2. high  3. low  4. close  5. volume\n",
       "Date                                                     \n",
       "2025-01-02    795.0    802.4   786.3     801.0   711599.0\n",
       "2025-01-01    796.8    798.5   789.6     793.4   356031.0\n",
       "2024-12-31    788.8    799.0   787.0     795.0   283620.0\n",
       "2024-12-30    802.7    808.0   785.2     788.3   686161.0\n",
       "2024-12-27    817.2    818.8   797.2     799.6  1061163.0\n",
       "...             ...      ...     ...       ...        ...\n",
       "2024-08-14    800.7    809.0   800.4     803.0   287718.0\n",
       "2024-08-13    813.1    819.4   795.1     797.3   641102.0\n",
       "2024-08-12    819.2    822.6   810.8     813.0  1142861.0\n",
       "2024-08-09    816.8    829.9   809.8     824.2   822817.0\n",
       "2024-08-08    813.8    817.9   803.0     807.6   680135.0\n",
       "\n",
       "[100 rows x 5 columns]"
      ]
     },
     "execution_count": 24,
     "metadata": {},
     "output_type": "execute_result"
    }
   ],
   "source": [
    "df"
   ]
  },
  {
   "cell_type": "code",
   "execution_count": 25,
   "metadata": {},
   "outputs": [],
   "source": [
    "df.to_csv(\"SBIPrice.csv\")"
   ]
  },
  {
   "cell_type": "markdown",
   "metadata": {},
   "source": [
    "### Visulalize the data with Candlestick chart"
   ]
  },
  {
   "attachments": {
    "image.png": {
     "image/png": "[encoded data removed]"
    }
   },
   "cell_type": "markdown",
   "metadata": {},
   "source": [
    "![image.png](attachment:image.png)"
   ]
  },
  {
   "cell_type": "code",
   "execution_count": 26,
   "metadata": {},
   "outputs": [
    {
     "data": {
      "text/plain": [
       "Index(['1. open', '2. high', '3. low', '4. close', '5. volume'], dtype='object')"
      ]
     },
     "execution_count": 26,
     "metadata": {},
     "output_type": "execute_result"
    }
   ],
   "source": [
    "df.columns"
   ]
  },
  {
   "cell_type": "code",
   "execution_count": 27,
   "metadata": {},
   "outputs": [],
   "source": [
    "import plotly.graph_objects as go"
   ]
  },
  {
   "cell_type": "code",
   "execution_count": 29,
   "metadata": {},
   "outputs": [
    {
     "data": {
      "application/vnd.plotly.v1+json": {
       "config": {
        "plotlyServerURL": "https://plot.ly"
       },
       "data": [
        {
         "close": [
          801,
          793.4,
          795,
          788.3,
          799.6,
          811.6,
          811.8,
          821,
          812.5,
          832.8,
          839,
          850.2,
          860.7,
          861.7,
          853.8,
          861.6,
          867.6,
          857.8,
          864,
          864.8,
          859.4,
          854,
          836.2,
          839,
          838.8,
          834.2,
          839.4,
          844.8,
          816,
          780.8,
          802,
          813.7,
          804,
          808.4,
          826.4,
          847.8,
          843.2,
          859.2,
          854.8,
          849.2,
          829.8,
          820.5,
          822.4,
          832.6,
          792,
          780.6,
          794.7,
          786,
          790.4,
          814.2,
          820,
          810.9,
          805.8,
          804.6,
          805.2,
          800,
          797,
          797,
          782,
          769.8,
          796.6,
          794.4,
          797,
          787.6,
          802.6,
          801.9,
          793,
          798.4,
          801.8,
          781.9,
          790.4,
          792.4,
          783,
          785.4,
          790.6,
          788,
          768.3,
          782.6,
          784.3,
          782.6,
          818.6,
          816.5,
          824.8,
          822.1,
          815.6,
          814.5,
          809.3,
          815.2,
          815.4,
          815.2,
          820.2,
          815.8,
          820,
          813.6,
          812.4,
          803,
          797.3,
          813,
          824.2,
          807.6
         ],
         "high": [
          802.4,
          798.5,
          799,
          808,
          818.8,
          823,
          825.6,
          823.9,
          836.4,
          837.9,
          850.8,
          863,
          866.2,
          863,
          864.2,
          869.8,
          868.8,
          866.8,
          875.5,
          871,
          863.8,
          856.6,
          842,
          843.8,
          845.7,
          842.2,
          846.7,
          849.3,
          819.8,
          800,
          820.1,
          816.6,
          817.8,
          831.6,
          853,
          853.6,
          863.6,
          862.4,
          861,
          851.2,
          837.5,
          828,
          832.9,
          834.5,
          804,
          800,
          796.8,
          792.5,
          816.4,
          826.4,
          822.4,
          819.2,
          808.9,
          807.6,
          809,
          802.5,
          804.4,
          805,
          784.5,
          803.9,
          809.6,
          804,
          799.8,
          802.5,
          807.8,
          803,
          798.2,
          804.1,
          804.9,
          794.4,
          801.2,
          794.5,
          787.5,
          795.3,
          795,
          789.7,
          788,
          789,
          788,
          813.9,
          821.9,
          818.6,
          825.9,
          825.3,
          820.4,
          816,
          817.1,
          819.3,
          823.4,
          821.7,
          823.7,
          821,
          822.9,
          825,
          815.1,
          809,
          819.4,
          822.6,
          829.9,
          817.9
         ],
         "low": [
          786.3,
          789.6,
          787,
          785.2,
          797.2,
          808,
          809.2,
          812.4,
          810,
          820.1,
          836.7,
          847.2,
          857.8,
          835,
          851.2,
          860.8,
          858.5,
          856.8,
          856.8,
          855.6,
          850.2,
          836.4,
          832.8,
          831.5,
          830.4,
          832,
          835.2,
          826,
          784.3,
          761.6,
          800.1,
          799.2,
          801.1,
          804.4,
          824.1,
          841.4,
          834.3,
          846.7,
          846.2,
          826.1,
          807,
          813.4,
          821,
          790.5,
          783.2,
          772,
          784.5,
          779.6,
          787.6,
          809.1,
          803.1,
          806,
          801,
          801.5,
          800.2,
          793,
          795,
          782.6,
          771.1,
          765.6,
          785.2,
          784.4,
          788.2,
          786.2,
          798.4,
          791.6,
          788.6,
          796.6,
          785,
          779.5,
          784.1,
          781.3,
          780.6,
          784.1,
          784.8,
          772.9,
          765.6,
          777.6,
          771.3,
          777,
          814.3,
          813,
          816.8,
          813,
          814.3,
          807.3,
          806.9,
          811,
          814.2,
          814.2,
          817.4,
          811.4,
          813.2,
          812.4,
          803.2,
          800.4,
          795.1,
          810.8,
          809.8,
          803
         ],
         "open": [
          795,
          796.8,
          788.8,
          802.7,
          817.2,
          813,
          825,
          818.4,
          833.8,
          822,
          850.2,
          859.8,
          859,
          853.7,
          862.5,
          865.8,
          862,
          863,
          867,
          861.6,
          854.4,
          836.4,
          836.2,
          842,
          835,
          839.3,
          844.8,
          826.2,
          785.6,
          800,
          817.6,
          810,
          810,
          822.5,
          851,
          847,
          860,
          860,
          850,
          829,
          822.6,
          822,
          830,
          796.5,
          783.2,
          798.4,
          786,
          790,
          814.2,
          822,
          811,
          806,
          801,
          805,
          800.2,
          797,
          799.9,
          788,
          771.1,
          797,
          790.3,
          787.4,
          789,
          801.2,
          802,
          795.2,
          798.2,
          800,
          785,
          794,
          794.2,
          783.6,
          786,
          793.4,
          790.8,
          775,
          781.6,
          788.6,
          785,
          813.9,
          818,
          813,
          821.2,
          816.4,
          818.4,
          809.4,
          813.8,
          816.8,
          819.4,
          821,
          819.8,
          820,
          818.8,
          814,
          803.5,
          800.7,
          813.1,
          819.2,
          816.8,
          813.8
         ],
         "type": "candlestick",
         "x": [
          "2025-01-02T00:00:00",
          "2025-01-01T00:00:00",
          "2024-12-31T00:00:00",
          "2024-12-30T00:00:00",
          "2024-12-27T00:00:00",
          "2024-12-26T00:00:00",
          "2024-12-24T00:00:00",
          "2024-12-23T00:00:00",
          "2024-12-20T00:00:00",
          "2024-12-19T00:00:00",
          "2024-12-18T00:00:00",
          "2024-12-17T00:00:00",
          "2024-12-16T00:00:00",
          "2024-12-13T00:00:00",
          "2024-12-12T00:00:00",
          "2024-12-11T00:00:00",
          "2024-12-10T00:00:00",
          "2024-12-09T00:00:00",
          "2024-12-06T00:00:00",
          "2024-12-05T00:00:00",
          "2024-12-04T00:00:00",
          "2024-12-03T00:00:00",
          "2024-12-02T00:00:00",
          "2024-11-29T00:00:00",
          "2024-11-28T00:00:00",
          "2024-11-27T00:00:00",
          "2024-11-26T00:00:00",
          "2024-11-25T00:00:00",
          "2024-11-22T00:00:00",
          "2024-11-21T00:00:00",
          "2024-11-19T00:00:00",
          "2024-11-18T00:00:00",
          "2024-11-14T00:00:00",
          "2024-11-13T00:00:00",
          "2024-11-12T00:00:00",
          "2024-11-11T00:00:00",
          "2024-11-08T00:00:00",
          "2024-11-07T00:00:00",
          "2024-11-06T00:00:00",
          "2024-11-05T00:00:00",
          "2024-11-04T00:00:00",
          "2024-10-31T00:00:00",
          "2024-10-30T00:00:00",
          "2024-10-29T00:00:00",
          "2024-10-28T00:00:00",
          "2024-10-25T00:00:00",
          "2024-10-24T00:00:00",
          "2024-10-23T00:00:00",
          "2024-10-22T00:00:00",
          "2024-10-21T00:00:00",
          "2024-10-18T00:00:00",
          "2024-10-17T00:00:00",
          "2024-10-16T00:00:00",
          "2024-10-15T00:00:00",
          "2024-10-14T00:00:00",
          "2024-10-11T00:00:00",
          "2024-10-10T00:00:00",
          "2024-10-09T00:00:00",
          "2024-10-08T00:00:00",
          "2024-10-07T00:00:00",
          "2024-10-04T00:00:00",
          "2024-10-03T00:00:00",
          "2024-10-01T00:00:00",
          "2024-09-30T00:00:00",
          "2024-09-27T00:00:00",
          "2024-09-26T00:00:00",
          "2024-09-25T00:00:00",
          "2024-09-24T00:00:00",
          "2024-09-23T00:00:00",
          "2024-09-20T00:00:00",
          "2024-09-19T00:00:00",
          "2024-09-18T00:00:00",
          "2024-09-17T00:00:00",
          "2024-09-16T00:00:00",
          "2024-09-13T00:00:00",
          "2024-09-12T00:00:00",
          "2024-09-11T00:00:00",
          "2024-09-10T00:00:00",
          "2024-09-09T00:00:00",
          "2024-09-06T00:00:00",
          "2024-09-05T00:00:00",
          "2024-09-04T00:00:00",
          "2024-09-03T00:00:00",
          "2024-09-02T00:00:00",
          "2024-08-30T00:00:00",
          "2024-08-29T00:00:00",
          "2024-08-28T00:00:00",
          "2024-08-27T00:00:00",
          "2024-08-26T00:00:00",
          "2024-08-23T00:00:00",
          "2024-08-22T00:00:00",
          "2024-08-21T00:00:00",
          "2024-08-20T00:00:00",
          "2024-08-19T00:00:00",
          "2024-08-16T00:00:00",
          "2024-08-14T00:00:00",
          "2024-08-13T00:00:00",
          "2024-08-12T00:00:00",
          "2024-08-09T00:00:00",
          "2024-08-08T00:00:00"
         ]
        }
       ],
       "layout": {
        "height": 800,
        "template": {
         "data": {
          "bar": [
           {
            "error_x": {
             "color": "#2a3f5f"
            },
            "error_y": {
             "color": "#2a3f5f"
            },
            "marker": {
             "line": {
              "color": "#E5ECF6",
              "width": 0.5
             },
             "pattern": {
              "fillmode": "overlay",
              "size": 10,
              "solidity": 0.2
             }
            },
            "type": "bar"
           }
          ],
          "barpolar": [
           {
            "marker": {
             "line": {
              "color": "#E5ECF6",
              "width": 0.5
             },
             "pattern": {
              "fillmode": "overlay",
              "size": 10,
              "solidity": 0.2
             }
            },
            "type": "barpolar"
           }
          ],
          "carpet": [
           {
            "aaxis": {
             "endlinecolor": "#2a3f5f",
             "gridcolor": "white",
             "linecolor": "white",
             "minorgridcolor": "white",
             "startlinecolor": "#2a3f5f"
            },
            "baxis": {
             "endlinecolor": "#2a3f5f",
             "gridcolor": "white",
             "linecolor": "white",
             "minorgridcolor": "white",
             "startlinecolor": "#2a3f5f"
            },
            "type": "carpet"
           }
          ],
          "choropleth": [
           {
            "colorbar": {
             "outlinewidth": 0,
             "ticks": ""
            },
            "type": "choropleth"
           }
          ],
          "contour": [
           {
            "colorbar": {
             "outlinewidth": 0,
             "ticks": ""
            },
            "colorscale": [
             [
              0,
              "#0d0887"
             ],
             [
              0.1111111111111111,
              "#46039f"
             ],
             [
              0.2222222222222222,
              "#7201a8"
             ],
             [
              0.3333333333333333,
              "#9c179e"
             ],
             [
              0.4444444444444444,
              "#bd3786"
             ],
             [
              0.5555555555555556,
              "#d8576b"
             ],
             [
              0.6666666666666666,
              "#ed7953"
             ],
             [
              0.7777777777777778,
              "#fb9f3a"
             ],
             [
              0.8888888888888888,
              "#fdca26"
             ],
             [
              1,
              "#f0f921"
             ]
            ],
            "type": "contour"
           }
          ],
          "contourcarpet": [
           {
            "colorbar": {
             "outlinewidth": 0,
             "ticks": ""
            },
            "type": "contourcarpet"
           }
          ],
          "heatmap": [
           {
            "colorbar": {
             "outlinewidth": 0,
             "ticks": ""
            },
            "colorscale": [
             [
              0,
              "#0d0887"
             ],
             [
              0.1111111111111111,
              "#46039f"
             ],
             [
              0.2222222222222222,
              "#7201a8"
             ],
             [
              0.3333333333333333,
              "#9c179e"
             ],
             [
              0.4444444444444444,
              "#bd3786"
             ],
             [
              0.5555555555555556,
              "#d8576b"
             ],
             [
              0.6666666666666666,
              "#ed7953"
             ],
             [
              0.7777777777777778,
              "#fb9f3a"
             ],
             [
              0.8888888888888888,
              "#fdca26"
             ],
             [
              1,
              "#f0f921"
             ]
            ],
            "type": "heatmap"
           }
          ],
          "heatmapgl": [
           {
            "colorbar": {
             "outlinewidth": 0,
             "ticks": ""
            },
            "colorscale": [
             [
              0,
              "#0d0887"
             ],
             [
              0.1111111111111111,
              "#46039f"
             ],
             [
              0.2222222222222222,
              "#7201a8"
             ],
             [
              0.3333333333333333,
              "#9c179e"
             ],
             [
              0.4444444444444444,
              "#bd3786"
             ],
             [
              0.5555555555555556,
              "#d8576b"
             ],
             [
              0.6666666666666666,
              "#ed7953"
             ],
             [
              0.7777777777777778,
              "#fb9f3a"
             ],
             [
              0.8888888888888888,
              "#fdca26"
             ],
             [
              1,
              "#f0f921"
             ]
            ],
            "type": "heatmapgl"
           }
          ],
          "histogram": [
           {
            "marker": {
             "pattern": {
              "fillmode": "overlay",
              "size": 10,
              "solidity": 0.2
             }
            },
            "type": "histogram"
           }
          ],
          "histogram2d": [
           {
            "colorbar": {
             "outlinewidth": 0,
             "ticks": ""
            },
            "colorscale": [
             [
              0,
              "#0d0887"
             ],
             [
              0.1111111111111111,
              "#46039f"
             ],
             [
              0.2222222222222222,
              "#7201a8"
             ],
             [
              0.3333333333333333,
              "#9c179e"
             ],
             [
              0.4444444444444444,
              "#bd3786"
             ],
             [
              0.5555555555555556,
              "#d8576b"
             ],
             [
              0.6666666666666666,
              "#ed7953"
             ],
             [
              0.7777777777777778,
              "#fb9f3a"
             ],
             [
              0.8888888888888888,
              "#fdca26"
             ],
             [
              1,
              "#f0f921"
             ]
            ],
            "type": "histogram2d"
           }
          ],
          "histogram2dcontour": [
           {
            "colorbar": {
             "outlinewidth": 0,
             "ticks": ""
            },
            "colorscale": [
             [
              0,
              "#0d0887"
             ],
             [
              0.1111111111111111,
              "#46039f"
             ],
             [
              0.2222222222222222,
              "#7201a8"
             ],
             [
              0.3333333333333333,
              "#9c179e"
             ],
             [
              0.4444444444444444,
              "#bd3786"
             ],
             [
              0.5555555555555556,
              "#d8576b"
             ],
             [
              0.6666666666666666,
              "#ed7953"
             ],
             [
              0.7777777777777778,
              "#fb9f3a"
             ],
             [
              0.8888888888888888,
              "#fdca26"
             ],
             [
              1,
              "#f0f921"
             ]
            ],
            "type": "histogram2dcontour"
           }
          ],
          "mesh3d": [
           {
            "colorbar": {
             "outlinewidth": 0,
             "ticks": ""
            },
            "type": "mesh3d"
           }
          ],
          "parcoords": [
           {
            "line": {
             "colorbar": {
              "outlinewidth": 0,
              "ticks": ""
             }
            },
            "type": "parcoords"
           }
          ],
          "pie": [
           {
            "automargin": true,
            "type": "pie"
           }
          ],
          "scatter": [
           {
            "fillpattern": {
             "fillmode": "overlay",
             "size": 10,
             "solidity": 0.2
            },
            "type": "scatter"
           }
          ],
          "scatter3d": [
           {
            "line": {
             "colorbar": {
              "outlinewidth": 0,
              "ticks": ""
             }
            },
            "marker": {
             "colorbar": {
              "outlinewidth": 0,
              "ticks": ""
             }
            },
            "type": "scatter3d"
           }
          ],
          "scattercarpet": [
           {
            "marker": {
             "colorbar": {
              "outlinewidth": 0,
              "ticks": ""
             }
            },
            "type": "scattercarpet"
           }
          ],
          "scattergeo": [
           {
            "marker": {
             "colorbar": {
              "outlinewidth": 0,
              "ticks": ""
             }
            },
            "type": "scattergeo"
           }
          ],
          "scattergl": [
           {
            "marker": {
             "colorbar": {
              "outlinewidth": 0,
              "ticks": ""
             }
            },
            "type": "scattergl"
           }
          ],
          "scattermapbox": [
           {
            "marker": {
             "colorbar": {
              "outlinewidth": 0,
              "ticks": ""
             }
            },
            "type": "scattermapbox"
           }
          ],
          "scatterpolar": [
           {
            "marker": {
             "colorbar": {
              "outlinewidth": 0,
              "ticks": ""
             }
            },
            "type": "scatterpolar"
           }
          ],
          "scatterpolargl": [
           {
            "marker": {
             "colorbar": {
              "outlinewidth": 0,
              "ticks": ""
             }
            },
            "type": "scatterpolargl"
           }
          ],
          "scatterternary": [
           {
            "marker": {
             "colorbar": {
              "outlinewidth": 0,
              "ticks": ""
             }
            },
            "type": "scatterternary"
           }
          ],
          "surface": [
           {
            "colorbar": {
             "outlinewidth": 0,
             "ticks": ""
            },
            "colorscale": [
             [
              0,
              "#0d0887"
             ],
             [
              0.1111111111111111,
              "#46039f"
             ],
             [
              0.2222222222222222,
              "#7201a8"
             ],
             [
              0.3333333333333333,
              "#9c179e"
             ],
             [
              0.4444444444444444,
              "#bd3786"
             ],
             [
              0.5555555555555556,
              "#d8576b"
             ],
             [
              0.6666666666666666,
              "#ed7953"
             ],
             [
              0.7777777777777778,
              "#fb9f3a"
             ],
             [
              0.8888888888888888,
              "#fdca26"
             ],
             [
              1,
              "#f0f921"
             ]
            ],
            "type": "surface"
           }
          ],
          "table": [
           {
            "cells": {
             "fill": {
              "color": "#EBF0F8"
             },
             "line": {
              "color": "white"
             }
            },
            "header": {
             "fill": {
              "color": "#C8D4E3"
             },
             "line": {
              "color": "white"
             }
            },
            "type": "table"
           }
          ]
         },
         "layout": {
          "annotationdefaults": {
           "arrowcolor": "#2a3f5f",
           "arrowhead": 0,
           "arrowwidth": 1
          },
          "autotypenumbers": "strict",
          "coloraxis": {
           "colorbar": {
            "outlinewidth": 0,
            "ticks": ""
           }
          },
          "colorscale": {
           "diverging": [
            [
             0,
             "#8e0152"
            ],
            [
             0.1,
             "#c51b7d"
            ],
            [
             0.2,
             "#de77ae"
            ],
            [
             0.3,
             "#f1b6da"
            ],
            [
             0.4,
             "#fde0ef"
            ],
            [
             0.5,
             "#f7f7f7"
            ],
            [
             0.6,
             "#e6f5d0"
            ],
            [
             0.7,
             "#b8e186"
            ],
            [
             0.8,
             "#7fbc41"
            ],
            [
             0.9,
             "#4d9221"
            ],
            [
             1,
             "#276419"
            ]
           ],
           "sequential": [
            [
             0,
             "#0d0887"
            ],
            [
             0.1111111111111111,
             "#46039f"
            ],
            [
             0.2222222222222222,
             "#7201a8"
            ],
            [
             0.3333333333333333,
             "#9c179e"
            ],
            [
             0.4444444444444444,
             "#bd3786"
            ],
            [
             0.5555555555555556,
             "#d8576b"
            ],
            [
             0.6666666666666666,
             "#ed7953"
            ],
            [
             0.7777777777777778,
             "#fb9f3a"
            ],
            [
             0.8888888888888888,
             "#fdca26"
            ],
            [
             1,
             "#f0f921"
            ]
           ],
           "sequentialminus": [
            [
             0,
             "#0d0887"
            ],
            [
             0.1111111111111111,
             "#46039f"
            ],
            [
             0.2222222222222222,
             "#7201a8"
            ],
            [
             0.3333333333333333,
             "#9c179e"
            ],
            [
             0.4444444444444444,
             "#bd3786"
            ],
            [
             0.5555555555555556,
             "#d8576b"
            ],
            [
             0.6666666666666666,
             "#ed7953"
            ],
            [
             0.7777777777777778,
             "#fb9f3a"
            ],
            [
             0.8888888888888888,
             "#fdca26"
            ],
            [
             1,
             "#f0f921"
            ]
           ]
          },
          "colorway": [
           "#636efa",
           "#EF553B",
           "#00cc96",
           "#ab63fa",
           "#FFA15A",
           "#19d3f3",
           "#FF6692",
           "#B6E880",
           "#FF97FF",
           "#FECB52"
          ],
          "font": {
           "color": "#2a3f5f"
          },
          "geo": {
           "bgcolor": "white",
           "lakecolor": "white",
           "landcolor": "#E5ECF6",
           "showlakes": true,
           "showland": true,
           "subunitcolor": "white"
          },
          "hoverlabel": {
           "align": "left"
          },
          "hovermode": "closest",
          "mapbox": {
           "style": "light"
          },
          "paper_bgcolor": "white",
          "plot_bgcolor": "#E5ECF6",
          "polar": {
           "angularaxis": {
            "gridcolor": "white",
            "linecolor": "white",
            "ticks": ""
           },
           "bgcolor": "#E5ECF6",
           "radialaxis": {
            "gridcolor": "white",
            "linecolor": "white",
            "ticks": ""
           }
          },
          "scene": {
           "xaxis": {
            "backgroundcolor": "#E5ECF6",
            "gridcolor": "white",
            "gridwidth": 2,
            "linecolor": "white",
            "showbackground": true,
            "ticks": "",
            "zerolinecolor": "white"
           },
           "yaxis": {
            "backgroundcolor": "#E5ECF6",
            "gridcolor": "white",
            "gridwidth": 2,
            "linecolor": "white",
            "showbackground": true,
            "ticks": "",
            "zerolinecolor": "white"
           },
           "zaxis": {
            "backgroundcolor": "#E5ECF6",
            "gridcolor": "white",
            "gridwidth": 2,
            "linecolor": "white",
            "showbackground": true,
            "ticks": "",
            "zerolinecolor": "white"
           }
          },
          "shapedefaults": {
           "line": {
            "color": "#2a3f5f"
           }
          },
          "ternary": {
           "aaxis": {
            "gridcolor": "white",
            "linecolor": "white",
            "ticks": ""
           },
           "baxis": {
            "gridcolor": "white",
            "linecolor": "white",
            "ticks": ""
           },
           "bgcolor": "#E5ECF6",
           "caxis": {
            "gridcolor": "white",
            "linecolor": "white",
            "ticks": ""
           }
          },
          "title": {
           "x": 0.05
          },
          "xaxis": {
           "automargin": true,
           "gridcolor": "white",
           "linecolor": "white",
           "ticks": "",
           "title": {
            "standoff": 15
           },
           "zerolinecolor": "white",
           "zerolinewidth": 2
          },
          "yaxis": {
           "automargin": true,
           "gridcolor": "white",
           "linecolor": "white",
           "ticks": "",
           "title": {
            "standoff": 15
           },
           "zerolinecolor": "white",
           "zerolinewidth": 2
          }
         }
        },
        "width": 1200
       }
      }
     },
     "metadata": {},
     "output_type": "display_data"
    }
   ],
   "source": [
    "fig = go.Figure(\n",
    "    data = [\n",
    "        go.Candlestick(\n",
    "            x = df.index,\n",
    "            open = df[\"1. open\"],\n",
    "            high = df[\"2. high\"],\n",
    "            low = df[\"3. low\"],\n",
    "            close = df[\"4. close\"]\n",
    "        )\n",
    "    ]\n",
    ")\n",
    "fig.update_layout(width=1200, height=800)\n",
    "fig.show()"
   ]
  },
  {
   "cell_type": "markdown",
   "metadata": {},
   "source": [
    "## Create a class to get stock details for any stock"
   ]
  },
  {
   "cell_type": "code",
   "execution_count": 30,
   "metadata": {},
   "outputs": [],
   "source": [
    "class StockAPI:\n",
    "\n",
    "    def __init__(self):\n",
    "        self.url = \"https://alpha-vantage.p.rapidapi.com/query\"\n",
    "        self.headers = {\n",
    "            \"x-rapidapi-key\": os.getenv(\"API_KEY\"),\n",
    "            \"x-rapidapi-host\": \"alpha-vantage.p.rapidapi.com\",\n",
    "        }\n",
    "\n",
    "    def search_symbol(self, company_name):\n",
    "        querystring = {\n",
    "            \"datatype\": \"json\",\n",
    "            \"keywords\": company_name,\n",
    "            \"function\": \"SYMBOL_SEARCH\",\n",
    "        }\n",
    "        response = requests.get(self.url, headers=self.headers, params=querystring)\n",
    "        return response.json()\n",
    "\n",
    "    def get_stock_data(self, symbol):\n",
    "        querystring = {\n",
    "            \"function\": \"TIME_SERIES_DAILY\",\n",
    "            \"symbol\": symbol,\n",
    "            \"outputsize\": \"compact\",\n",
    "            \"datatype\": \"json\",\n",
    "        }\n",
    "        response = requests.get(url, headers=self.headers, params=querystring)\n",
    "        data = response.json()[\"Time Series (Daily)\"]\n",
    "        df = pd.DataFrame(data).T\n",
    "        df = df.astype(float).round(2)\n",
    "        df.index = pd.to_datetime(df.index)\n",
    "        df.index.name = \"Date\"\n",
    "        return df\n",
    "\n",
    "    def plot_candlestick(self, df):\n",
    "        fig = go.Figure(\n",
    "            data=[\n",
    "                go.Candlestick(\n",
    "                    x=df.index,\n",
    "                    open=df[\"1. open\"],\n",
    "                    high=df[\"2. high\"],\n",
    "                    low=df[\"3. low\"],\n",
    "                    close=df[\"4. close\"],\n",
    "                )\n",
    "            ]\n",
    "        )\n",
    "        fig.update_layout(width=1200, height=800)\n",
    "        fig.show()\n"
   ]
  },
  {
   "cell_type": "code",
   "execution_count": 31,
   "metadata": {},
   "outputs": [],
   "source": [
    "client = StockAPI()"
   ]
  },
  {
   "cell_type": "code",
   "execution_count": 32,
   "metadata": {},
   "outputs": [
    {
     "data": {
      "text/plain": [
       "{'bestMatches': [{'1. symbol': 'HDB',\n",
       "   '2. name': 'HDFC Bank Ltd',\n",
       "   '3. type': 'Equity',\n",
       "   '4. region': 'United States',\n",
       "   '5. marketOpen': '09:30',\n",
       "   '6. marketClose': '16:00',\n",
       "   '7. timezone': 'UTC-04',\n",
       "   '8. currency': 'USD',\n",
       "   '9. matchScore': '0.8182'},\n",
       "  {'1. symbol': 'HDFCBANK.BSE',\n",
       "   '2. name': 'HDFC Bank Limited',\n",
       "   '3. type': 'Equity',\n",
       "   '4. region': 'India/Bombay',\n",
       "   '5. marketOpen': '09:15',\n",
       "   '6. marketClose': '15:30',\n",
       "   '7. timezone': 'UTC+5.5',\n",
       "   '8. currency': 'INR',\n",
       "   '9. matchScore': '0.8000'},\n",
       "  {'1. symbol': 'H1DB34.SAO',\n",
       "   '2. name': 'HDFC Bank Limited',\n",
       "   '3. type': 'Equity',\n",
       "   '4. region': 'Brazil/Sao Paolo',\n",
       "   '5. marketOpen': '10:00',\n",
       "   '6. marketClose': '17:30',\n",
       "   '7. timezone': 'UTC-03',\n",
       "   '8. currency': 'BRL',\n",
       "   '9. matchScore': '0.6923'},\n",
       "  {'1. symbol': 'HDFA.FRK',\n",
       "   '2. name': 'HDFC Bank Limited',\n",
       "   '3. type': 'Equity',\n",
       "   '4. region': 'Frankfurt',\n",
       "   '5. marketOpen': '08:00',\n",
       "   '6. marketClose': '20:00',\n",
       "   '7. timezone': 'UTC+02',\n",
       "   '8. currency': 'EUR',\n",
       "   '9. matchScore': '0.6923'}]}"
      ]
     },
     "execution_count": 32,
     "metadata": {},
     "output_type": "execute_result"
    }
   ],
   "source": [
    "client.search_symbol(company_name=\"HDFC Bank\")"
   ]
  },
  {
   "cell_type": "code",
   "execution_count": 33,
   "metadata": {},
   "outputs": [
    {
     "data": {
      "text/html": [
       "<div>\n",
       "<style scoped>\n",
       "    .dataframe tbody tr th:only-of-type {\n",
       "        vertical-align: middle;\n",
       "    }\n",
       "\n",
       "    .dataframe tbody tr th {\n",
       "        vertical-align: top;\n",
       "    }\n",
       "\n",
       "    .dataframe thead th {\n",
       "        text-align: right;\n",
       "    }\n",
       "</style>\n",
       "<table border=\"1\" class=\"dataframe\">\n",
       "  <thead>\n",
       "    <tr style=\"text-align: right;\">\n",
       "      <th></th>\n",
       "      <th>1. open</th>\n",
       "      <th>2. high</th>\n",
       "      <th>3. low</th>\n",
       "      <th>4. close</th>\n",
       "      <th>5. volume</th>\n",
       "    </tr>\n",
       "    <tr>\n",
       "      <th>Date</th>\n",
       "      <th></th>\n",
       "      <th></th>\n",
       "      <th></th>\n",
       "      <th></th>\n",
       "      <th></th>\n",
       "    </tr>\n",
       "  </thead>\n",
       "  <tbody>\n",
       "    <tr>\n",
       "      <th>2025-01-02</th>\n",
       "      <td>1780.50</td>\n",
       "      <td>1803.00</td>\n",
       "      <td>1774.10</td>\n",
       "      <td>1793.35</td>\n",
       "      <td>79075.0</td>\n",
       "    </tr>\n",
       "    <tr>\n",
       "      <th>2025-01-01</th>\n",
       "      <td>1775.00</td>\n",
       "      <td>1794.40</td>\n",
       "      <td>1762.00</td>\n",
       "      <td>1782.45</td>\n",
       "      <td>110695.0</td>\n",
       "    </tr>\n",
       "    <tr>\n",
       "      <th>2024-12-31</th>\n",
       "      <td>1770.05</td>\n",
       "      <td>1781.35</td>\n",
       "      <td>1768.00</td>\n",
       "      <td>1772.45</td>\n",
       "      <td>107155.0</td>\n",
       "    </tr>\n",
       "    <tr>\n",
       "      <th>2024-12-30</th>\n",
       "      <td>1794.95</td>\n",
       "      <td>1815.00</td>\n",
       "      <td>1771.35</td>\n",
       "      <td>1778.70</td>\n",
       "      <td>292506.0</td>\n",
       "    </tr>\n",
       "    <tr>\n",
       "      <th>2024-12-27</th>\n",
       "      <td>1790.25</td>\n",
       "      <td>1803.00</td>\n",
       "      <td>1789.50</td>\n",
       "      <td>1797.85</td>\n",
       "      <td>218692.0</td>\n",
       "    </tr>\n",
       "    <tr>\n",
       "      <th>...</th>\n",
       "      <td>...</td>\n",
       "      <td>...</td>\n",
       "      <td>...</td>\n",
       "      <td>...</td>\n",
       "      <td>...</td>\n",
       "    </tr>\n",
       "    <tr>\n",
       "      <th>2024-08-16</th>\n",
       "      <td>1622.00</td>\n",
       "      <td>1634.60</td>\n",
       "      <td>1611.60</td>\n",
       "      <td>1632.35</td>\n",
       "      <td>977686.0</td>\n",
       "    </tr>\n",
       "    <tr>\n",
       "      <th>2024-08-14</th>\n",
       "      <td>1607.90</td>\n",
       "      <td>1613.55</td>\n",
       "      <td>1603.10</td>\n",
       "      <td>1607.90</td>\n",
       "      <td>305981.0</td>\n",
       "    </tr>\n",
       "    <tr>\n",
       "      <th>2024-08-13</th>\n",
       "      <td>1628.00</td>\n",
       "      <td>1631.55</td>\n",
       "      <td>1601.20</td>\n",
       "      <td>1603.60</td>\n",
       "      <td>970561.0</td>\n",
       "    </tr>\n",
       "    <tr>\n",
       "      <th>2024-08-12</th>\n",
       "      <td>1641.25</td>\n",
       "      <td>1675.60</td>\n",
       "      <td>1641.25</td>\n",
       "      <td>1661.05</td>\n",
       "      <td>1536607.0</td>\n",
       "    </tr>\n",
       "    <tr>\n",
       "      <th>2024-08-09</th>\n",
       "      <td>1655.95</td>\n",
       "      <td>1662.50</td>\n",
       "      <td>1646.10</td>\n",
       "      <td>1649.50</td>\n",
       "      <td>485526.0</td>\n",
       "    </tr>\n",
       "  </tbody>\n",
       "</table>\n",
       "<p>100 rows × 5 columns</p>\n",
       "</div>"
      ],
      "text/plain": [
       "            1. open  2. high   3. low  4. close  5. volume\n",
       "Date                                                      \n",
       "2025-01-02  1780.50  1803.00  1774.10   1793.35    79075.0\n",
       "2025-01-01  1775.00  1794.40  1762.00   1782.45   110695.0\n",
       "2024-12-31  1770.05  1781.35  1768.00   1772.45   107155.0\n",
       "2024-12-30  1794.95  1815.00  1771.35   1778.70   292506.0\n",
       "2024-12-27  1790.25  1803.00  1789.50   1797.85   218692.0\n",
       "...             ...      ...      ...       ...        ...\n",
       "2024-08-16  1622.00  1634.60  1611.60   1632.35   977686.0\n",
       "2024-08-14  1607.90  1613.55  1603.10   1607.90   305981.0\n",
       "2024-08-13  1628.00  1631.55  1601.20   1603.60   970561.0\n",
       "2024-08-12  1641.25  1675.60  1641.25   1661.05  1536607.0\n",
       "2024-08-09  1655.95  1662.50  1646.10   1649.50   485526.0\n",
       "\n",
       "[100 rows x 5 columns]"
      ]
     },
     "execution_count": 33,
     "metadata": {},
     "output_type": "execute_result"
    }
   ],
   "source": [
    "df2 = client.get_stock_data(symbol= \"HDFCBANK.BSE\")\n",
    "df2"
   ]
  },
  {
   "cell_type": "code",
   "execution_count": 34,
   "metadata": {},
   "outputs": [],
   "source": [
    "df2.to_csv(\"HDFCPrice.csv\")"
   ]
  },
  {
   "cell_type": "code",
   "execution_count": 35,
   "metadata": {},
   "outputs": [
    {
     "data": {
      "application/vnd.plotly.v1+json": {
       "config": {
        "plotlyServerURL": "https://plot.ly"
       },
       "data": [
        {
         "close": [
          1793.35,
          1782.45,
          1772.45,
          1778.7,
          1797.85,
          1791.75,
          1797.65,
          1801,
          1772.05,
          1793.45,
          1811.2,
          1832.85,
          1864.8,
          1872.05,
          1858.95,
          1863.7,
          1868.05,
          1869.8,
          1856.5,
          1863.8,
          1860.05,
          1826.85,
          1804.55,
          1797.65,
          1792.9,
          1811,
          1785.4,
          1784.6,
          1745.95,
          1741.95,
          1742.25,
          1704.5,
          1693.1,
          1681.25,
          1718.35,
          1766.6,
          1754.55,
          1746.15,
          1754.15,
          1757.95,
          1714.05,
          1737.8,
          1734.95,
          1735,
          1751,
          1734.3,
          1742.6,
          1750.1,
          1735.7,
          1714.1,
          1728.8,
          1681.15,
          1673.35,
          1699.95,
          1684.4,
          1688.5,
          1650.25,
          1662.3,
          1633.7,
          1651.3,
          1619.65,
          1656.8,
          1682.15,
          1726.15,
          1732,
          1752.85,
          1782.3,
          1778.85,
          1768.45,
          1759.25,
          1742.15,
          1708.15,
          1694.35,
          1668.7,
          1671,
          1665.35,
          1666,
          1644.35,
          1650.6,
          1647.5,
          1637,
          1645.25,
          1641.95,
          1637.8,
          1626.15,
          1632.95,
          1638.5,
          1636.4,
          1637.05,
          1639.6,
          1625.6,
          1631.75,
          1626.5,
          1637.4,
          1631.55,
          1632.35,
          1607.9,
          1603.6,
          1661.05,
          1649.5
         ],
         "high": [
          1803,
          1794.4,
          1781.35,
          1815,
          1803,
          1811.4,
          1806.15,
          1805.9,
          1797.35,
          1800.2,
          1835.65,
          1862.25,
          1870,
          1874.55,
          1868.65,
          1871.05,
          1875,
          1880,
          1864.15,
          1879,
          1865,
          1837,
          1808,
          1804.25,
          1836.05,
          1817.2,
          1804.1,
          1801.9,
          1753.8,
          1758.75,
          1753.65,
          1718.8,
          1704.6,
          1729,
          1773.25,
          1782.5,
          1761.45,
          1760.1,
          1772,
          1762.5,
          1743.6,
          1748.95,
          1739.65,
          1755,
          1763.7,
          1750.9,
          1758.35,
          1768.65,
          1746.45,
          1740,
          1748.2,
          1691,
          1698.25,
          1707.7,
          1698,
          1692,
          1665.05,
          1665,
          1656.55,
          1657,
          1659.8,
          1690.4,
          1725.9,
          1742,
          1752,
          1778.1,
          1787.8,
          1787.9,
          1781.8,
          1766.65,
          1745,
          1718.9,
          1698.8,
          1677,
          1677.65,
          1674,
          1669.5,
          1652.2,
          1654,
          1649.7,
          1647.05,
          1649.9,
          1643.7,
          1639.95,
          1645.7,
          1660.75,
          1644.4,
          1640.2,
          1647.35,
          1647.55,
          1634.85,
          1638,
          1634.35,
          1645.8,
          1637.05,
          1634.6,
          1613.55,
          1631.55,
          1675.6,
          1662.5
         ],
         "low": [
          1774.1,
          1762,
          1768,
          1771.35,
          1789.5,
          1781.75,
          1789.1,
          1780,
          1766.9,
          1779,
          1807.45,
          1826.35,
          1855.1,
          1829,
          1849.35,
          1857,
          1858.65,
          1849.55,
          1843.7,
          1835.9,
          1831.2,
          1816.4,
          1775,
          1783.1,
          1788,
          1785.3,
          1770,
          1765,
          1729.3,
          1733.7,
          1704,
          1694.6,
          1674,
          1672.5,
          1708.8,
          1751.55,
          1746.15,
          1737.8,
          1745.25,
          1698,
          1710,
          1728.75,
          1719.05,
          1724.4,
          1725.1,
          1728.95,
          1729,
          1737.55,
          1702.3,
          1710.95,
          1710.5,
          1654.05,
          1665.15,
          1677.55,
          1675.65,
          1654.95,
          1643.2,
          1633,
          1629,
          1619.65,
          1613.4,
          1652.4,
          1673.8,
          1720.05,
          1724,
          1750,
          1768.1,
          1760.9,
          1754,
          1739.95,
          1707.55,
          1696,
          1671,
          1663.85,
          1660.6,
          1657.15,
          1647.35,
          1639.1,
          1638,
          1629.65,
          1634,
          1641.8,
          1631.6,
          1624.85,
          1620.2,
          1622.95,
          1631.15,
          1630.25,
          1632.2,
          1631.05,
          1622.95,
          1628.1,
          1618,
          1628.15,
          1623.15,
          1611.6,
          1603.1,
          1601.2,
          1641.25,
          1646.1
         ],
         "open": [
          1780.5,
          1775,
          1770.05,
          1794.95,
          1790.25,
          1797.5,
          1803.95,
          1780,
          1787.95,
          1795.05,
          1832.5,
          1856.05,
          1863,
          1855.2,
          1849.95,
          1865,
          1870.25,
          1853.05,
          1859.75,
          1862,
          1838,
          1819.9,
          1797.65,
          1794.05,
          1818,
          1787.15,
          1800,
          1779,
          1740.15,
          1756.05,
          1715.05,
          1706.2,
          1674.95,
          1711.3,
          1767.2,
          1753,
          1747.05,
          1749.95,
          1765.2,
          1707.95,
          1741.4,
          1748.95,
          1730,
          1747.95,
          1725.1,
          1738.8,
          1757,
          1737.55,
          1702.3,
          1729,
          1720.05,
          1662.4,
          1692.4,
          1677.55,
          1692.55,
          1658,
          1664,
          1643,
          1651.95,
          1619.65,
          1654.95,
          1668.95,
          1710.05,
          1724.1,
          1751,
          1778.1,
          1778.8,
          1762.65,
          1764,
          1742.2,
          1715.25,
          1696,
          1671,
          1672.55,
          1660.6,
          1672,
          1648.3,
          1650,
          1652.4,
          1638.2,
          1640.8,
          1643.3,
          1637,
          1635.05,
          1645.7,
          1655,
          1642,
          1635.6,
          1640.85,
          1631.05,
          1634,
          1632,
          1626.5,
          1629.95,
          1635.75,
          1622,
          1607.9,
          1628,
          1641.25,
          1655.95
         ],
         "type": "candlestick",
         "x": [
          "2025-01-02T00:00:00",
          "2025-01-01T00:00:00",
          "2024-12-31T00:00:00",
          "2024-12-30T00:00:00",
          "2024-12-27T00:00:00",
          "2024-12-26T00:00:00",
          "2024-12-24T00:00:00",
          "2024-12-23T00:00:00",
          "2024-12-20T00:00:00",
          "2024-12-19T00:00:00",
          "2024-12-18T00:00:00",
          "2024-12-17T00:00:00",
          "2024-12-16T00:00:00",
          "2024-12-13T00:00:00",
          "2024-12-12T00:00:00",
          "2024-12-11T00:00:00",
          "2024-12-10T00:00:00",
          "2024-12-09T00:00:00",
          "2024-12-06T00:00:00",
          "2024-12-05T00:00:00",
          "2024-12-04T00:00:00",
          "2024-12-03T00:00:00",
          "2024-12-02T00:00:00",
          "2024-11-29T00:00:00",
          "2024-11-28T00:00:00",
          "2024-11-27T00:00:00",
          "2024-11-26T00:00:00",
          "2024-11-25T00:00:00",
          "2024-11-22T00:00:00",
          "2024-11-21T00:00:00",
          "2024-11-19T00:00:00",
          "2024-11-18T00:00:00",
          "2024-11-14T00:00:00",
          "2024-11-13T00:00:00",
          "2024-11-12T00:00:00",
          "2024-11-11T00:00:00",
          "2024-11-08T00:00:00",
          "2024-11-07T00:00:00",
          "2024-11-06T00:00:00",
          "2024-11-05T00:00:00",
          "2024-11-04T00:00:00",
          "2024-11-01T00:00:00",
          "2024-10-31T00:00:00",
          "2024-10-30T00:00:00",
          "2024-10-29T00:00:00",
          "2024-10-28T00:00:00",
          "2024-10-25T00:00:00",
          "2024-10-24T00:00:00",
          "2024-10-23T00:00:00",
          "2024-10-22T00:00:00",
          "2024-10-21T00:00:00",
          "2024-10-18T00:00:00",
          "2024-10-17T00:00:00",
          "2024-10-16T00:00:00",
          "2024-10-15T00:00:00",
          "2024-10-14T00:00:00",
          "2024-10-11T00:00:00",
          "2024-10-10T00:00:00",
          "2024-10-09T00:00:00",
          "2024-10-08T00:00:00",
          "2024-10-07T00:00:00",
          "2024-10-04T00:00:00",
          "2024-10-03T00:00:00",
          "2024-10-01T00:00:00",
          "2024-09-30T00:00:00",
          "2024-09-27T00:00:00",
          "2024-09-26T00:00:00",
          "2024-09-25T00:00:00",
          "2024-09-24T00:00:00",
          "2024-09-23T00:00:00",
          "2024-09-20T00:00:00",
          "2024-09-19T00:00:00",
          "2024-09-18T00:00:00",
          "2024-09-17T00:00:00",
          "2024-09-16T00:00:00",
          "2024-09-13T00:00:00",
          "2024-09-12T00:00:00",
          "2024-09-11T00:00:00",
          "2024-09-10T00:00:00",
          "2024-09-09T00:00:00",
          "2024-09-06T00:00:00",
          "2024-09-05T00:00:00",
          "2024-09-04T00:00:00",
          "2024-09-03T00:00:00",
          "2024-09-02T00:00:00",
          "2024-08-30T00:00:00",
          "2024-08-29T00:00:00",
          "2024-08-28T00:00:00",
          "2024-08-27T00:00:00",
          "2024-08-26T00:00:00",
          "2024-08-23T00:00:00",
          "2024-08-22T00:00:00",
          "2024-08-21T00:00:00",
          "2024-08-20T00:00:00",
          "2024-08-19T00:00:00",
          "2024-08-16T00:00:00",
          "2024-08-14T00:00:00",
          "2024-08-13T00:00:00",
          "2024-08-12T00:00:00",
          "2024-08-09T00:00:00"
         ]
        }
       ],
       "layout": {
        "height": 800,
        "template": {
         "data": {
          "bar": [
           {
            "error_x": {
             "color": "#2a3f5f"
            },
            "error_y": {
             "color": "#2a3f5f"
            },
            "marker": {
             "line": {
              "color": "#E5ECF6",
              "width": 0.5
             },
             "pattern": {
              "fillmode": "overlay",
              "size": 10,
              "solidity": 0.2
             }
            },
            "type": "bar"
           }
          ],
          "barpolar": [
           {
            "marker": {
             "line": {
              "color": "#E5ECF6",
              "width": 0.5
             },
             "pattern": {
              "fillmode": "overlay",
              "size": 10,
              "solidity": 0.2
             }
            },
            "type": "barpolar"
           }
          ],
          "carpet": [
           {
            "aaxis": {
             "endlinecolor": "#2a3f5f",
             "gridcolor": "white",
             "linecolor": "white",
             "minorgridcolor": "white",
             "startlinecolor": "#2a3f5f"
            },
            "baxis": {
             "endlinecolor": "#2a3f5f",
             "gridcolor": "white",
             "linecolor": "white",
             "minorgridcolor": "white",
             "startlinecolor": "#2a3f5f"
            },
            "type": "carpet"
           }
          ],
          "choropleth": [
           {
            "colorbar": {
             "outlinewidth": 0,
             "ticks": ""
            },
            "type": "choropleth"
           }
          ],
          "contour": [
           {
            "colorbar": {
             "outlinewidth": 0,
             "ticks": ""
            },
            "colorscale": [
             [
              0,
              "#0d0887"
             ],
             [
              0.1111111111111111,
              "#46039f"
             ],
             [
              0.2222222222222222,
              "#7201a8"
             ],
             [
              0.3333333333333333,
              "#9c179e"
             ],
             [
              0.4444444444444444,
              "#bd3786"
             ],
             [
              0.5555555555555556,
              "#d8576b"
             ],
             [
              0.6666666666666666,
              "#ed7953"
             ],
             [
              0.7777777777777778,
              "#fb9f3a"
             ],
             [
              0.8888888888888888,
              "#fdca26"
             ],
             [
              1,
              "#f0f921"
             ]
            ],
            "type": "contour"
           }
          ],
          "contourcarpet": [
           {
            "colorbar": {
             "outlinewidth": 0,
             "ticks": ""
            },
            "type": "contourcarpet"
           }
          ],
          "heatmap": [
           {
            "colorbar": {
             "outlinewidth": 0,
             "ticks": ""
            },
            "colorscale": [
             [
              0,
              "#0d0887"
             ],
             [
              0.1111111111111111,
              "#46039f"
             ],
             [
              0.2222222222222222,
              "#7201a8"
             ],
             [
              0.3333333333333333,
              "#9c179e"
             ],
             [
              0.4444444444444444,
              "#bd3786"
             ],
             [
              0.5555555555555556,
              "#d8576b"
             ],
             [
              0.6666666666666666,
              "#ed7953"
             ],
             [
              0.7777777777777778,
              "#fb9f3a"
             ],
             [
              0.8888888888888888,
              "#fdca26"
             ],
             [
              1,
              "#f0f921"
             ]
            ],
            "type": "heatmap"
           }
          ],
          "heatmapgl": [
           {
            "colorbar": {
             "outlinewidth": 0,
             "ticks": ""
            },
            "colorscale": [
             [
              0,
              "#0d0887"
             ],
             [
              0.1111111111111111,
              "#46039f"
             ],
             [
              0.2222222222222222,
              "#7201a8"
             ],
             [
              0.3333333333333333,
              "#9c179e"
             ],
             [
              0.4444444444444444,
              "#bd3786"
             ],
             [
              0.5555555555555556,
              "#d8576b"
             ],
             [
              0.6666666666666666,
              "#ed7953"
             ],
             [
              0.7777777777777778,
              "#fb9f3a"
             ],
             [
              0.8888888888888888,
              "#fdca26"
             ],
             [
              1,
              "#f0f921"
             ]
            ],
            "type": "heatmapgl"
           }
          ],
          "histogram": [
           {
            "marker": {
             "pattern": {
              "fillmode": "overlay",
              "size": 10,
              "solidity": 0.2
             }
            },
            "type": "histogram"
           }
          ],
          "histogram2d": [
           {
            "colorbar": {
             "outlinewidth": 0,
             "ticks": ""
            },
            "colorscale": [
             [
              0,
              "#0d0887"
             ],
             [
              0.1111111111111111,
              "#46039f"
             ],
             [
              0.2222222222222222,
              "#7201a8"
             ],
             [
              0.3333333333333333,
              "#9c179e"
             ],
             [
              0.4444444444444444,
              "#bd3786"
             ],
             [
              0.5555555555555556,
              "#d8576b"
             ],
             [
              0.6666666666666666,
              "#ed7953"
             ],
             [
              0.7777777777777778,
              "#fb9f3a"
             ],
             [
              0.8888888888888888,
              "#fdca26"
             ],
             [
              1,
              "#f0f921"
             ]
            ],
            "type": "histogram2d"
           }
          ],
          "histogram2dcontour": [
           {
            "colorbar": {
             "outlinewidth": 0,
             "ticks": ""
            },
            "colorscale": [
             [
              0,
              "#0d0887"
             ],
             [
              0.1111111111111111,
              "#46039f"
             ],
             [
              0.2222222222222222,
              "#7201a8"
             ],
             [
              0.3333333333333333,
              "#9c179e"
             ],
             [
              0.4444444444444444,
              "#bd3786"
             ],
             [
              0.5555555555555556,
              "#d8576b"
             ],
             [
              0.6666666666666666,
              "#ed7953"
             ],
             [
              0.7777777777777778,
              "#fb9f3a"
             ],
             [
              0.8888888888888888,
              "#fdca26"
             ],
             [
              1,
              "#f0f921"
             ]
            ],
            "type": "histogram2dcontour"
           }
          ],
          "mesh3d": [
           {
            "colorbar": {
             "outlinewidth": 0,
             "ticks": ""
            },
            "type": "mesh3d"
           }
          ],
          "parcoords": [
           {
            "line": {
             "colorbar": {
              "outlinewidth": 0,
              "ticks": ""
             }
            },
            "type": "parcoords"
           }
          ],
          "pie": [
           {
            "automargin": true,
            "type": "pie"
           }
          ],
          "scatter": [
           {
            "fillpattern": {
             "fillmode": "overlay",
             "size": 10,
             "solidity": 0.2
            },
            "type": "scatter"
           }
          ],
          "scatter3d": [
           {
            "line": {
             "colorbar": {
              "outlinewidth": 0,
              "ticks": ""
             }
            },
            "marker": {
             "colorbar": {
              "outlinewidth": 0,
              "ticks": ""
             }
            },
            "type": "scatter3d"
           }
          ],
          "scattercarpet": [
           {
            "marker": {
             "colorbar": {
              "outlinewidth": 0,
              "ticks": ""
             }
            },
            "type": "scattercarpet"
           }
          ],
          "scattergeo": [
           {
            "marker": {
             "colorbar": {
              "outlinewidth": 0,
              "ticks": ""
             }
            },
            "type": "scattergeo"
           }
          ],
          "scattergl": [
           {
            "marker": {
             "colorbar": {
              "outlinewidth": 0,
              "ticks": ""
             }
            },
            "type": "scattergl"
           }
          ],
          "scattermapbox": [
           {
            "marker": {
             "colorbar": {
              "outlinewidth": 0,
              "ticks": ""
             }
            },
            "type": "scattermapbox"
           }
          ],
          "scatterpolar": [
           {
            "marker": {
             "colorbar": {
              "outlinewidth": 0,
              "ticks": ""
             }
            },
            "type": "scatterpolar"
           }
          ],
          "scatterpolargl": [
           {
            "marker": {
             "colorbar": {
              "outlinewidth": 0,
              "ticks": ""
             }
            },
            "type": "scatterpolargl"
           }
          ],
          "scatterternary": [
           {
            "marker": {
             "colorbar": {
              "outlinewidth": 0,
              "ticks": ""
             }
            },
            "type": "scatterternary"
           }
          ],
          "surface": [
           {
            "colorbar": {
             "outlinewidth": 0,
             "ticks": ""
            },
            "colorscale": [
             [
              0,
              "#0d0887"
             ],
             [
              0.1111111111111111,
              "#46039f"
             ],
             [
              0.2222222222222222,
              "#7201a8"
             ],
             [
              0.3333333333333333,
              "#9c179e"
             ],
             [
              0.4444444444444444,
              "#bd3786"
             ],
             [
              0.5555555555555556,
              "#d8576b"
             ],
             [
              0.6666666666666666,
              "#ed7953"
             ],
             [
              0.7777777777777778,
              "#fb9f3a"
             ],
             [
              0.8888888888888888,
              "#fdca26"
             ],
             [
              1,
              "#f0f921"
             ]
            ],
            "type": "surface"
           }
          ],
          "table": [
           {
            "cells": {
             "fill": {
              "color": "#EBF0F8"
             },
             "line": {
              "color": "white"
             }
            },
            "header": {
             "fill": {
              "color": "#C8D4E3"
             },
             "line": {
              "color": "white"
             }
            },
            "type": "table"
           }
          ]
         },
         "layout": {
          "annotationdefaults": {
           "arrowcolor": "#2a3f5f",
           "arrowhead": 0,
           "arrowwidth": 1
          },
          "autotypenumbers": "strict",
          "coloraxis": {
           "colorbar": {
            "outlinewidth": 0,
            "ticks": ""
           }
          },
          "colorscale": {
           "diverging": [
            [
             0,
             "#8e0152"
            ],
            [
             0.1,
             "#c51b7d"
            ],
            [
             0.2,
             "#de77ae"
            ],
            [
             0.3,
             "#f1b6da"
            ],
            [
             0.4,
             "#fde0ef"
            ],
            [
             0.5,
             "#f7f7f7"
            ],
            [
             0.6,
             "#e6f5d0"
            ],
            [
             0.7,
             "#b8e186"
            ],
            [
             0.8,
             "#7fbc41"
            ],
            [
             0.9,
             "#4d9221"
            ],
            [
             1,
             "#276419"
            ]
           ],
           "sequential": [
            [
             0,
             "#0d0887"
            ],
            [
             0.1111111111111111,
             "#46039f"
            ],
            [
             0.2222222222222222,
             "#7201a8"
            ],
            [
             0.3333333333333333,
             "#9c179e"
            ],
            [
             0.4444444444444444,
             "#bd3786"
            ],
            [
             0.5555555555555556,
             "#d8576b"
            ],
            [
             0.6666666666666666,
             "#ed7953"
            ],
            [
             0.7777777777777778,
             "#fb9f3a"
            ],
            [
             0.8888888888888888,
             "#fdca26"
            ],
            [
             1,
             "#f0f921"
            ]
           ],
           "sequentialminus": [
            [
             0,
             "#0d0887"
            ],
            [
             0.1111111111111111,
             "#46039f"
            ],
            [
             0.2222222222222222,
             "#7201a8"
            ],
            [
             0.3333333333333333,
             "#9c179e"
            ],
            [
             0.4444444444444444,
             "#bd3786"
            ],
            [
             0.5555555555555556,
             "#d8576b"
            ],
            [
             0.6666666666666666,
             "#ed7953"
            ],
            [
             0.7777777777777778,
             "#fb9f3a"
            ],
            [
             0.8888888888888888,
             "#fdca26"
            ],
            [
             1,
             "#f0f921"
            ]
           ]
          },
          "colorway": [
           "#636efa",
           "#EF553B",
           "#00cc96",
           "#ab63fa",
           "#FFA15A",
           "#19d3f3",
           "#FF6692",
           "#B6E880",
           "#FF97FF",
           "#FECB52"
          ],
          "font": {
           "color": "#2a3f5f"
          },
          "geo": {
           "bgcolor": "white",
           "lakecolor": "white",
           "landcolor": "#E5ECF6",
           "showlakes": true,
           "showland": true,
           "subunitcolor": "white"
          },
          "hoverlabel": {
           "align": "left"
          },
          "hovermode": "closest",
          "mapbox": {
           "style": "light"
          },
          "paper_bgcolor": "white",
          "plot_bgcolor": "#E5ECF6",
          "polar": {
           "angularaxis": {
            "gridcolor": "white",
            "linecolor": "white",
            "ticks": ""
           },
           "bgcolor": "#E5ECF6",
           "radialaxis": {
            "gridcolor": "white",
            "linecolor": "white",
            "ticks": ""
           }
          },
          "scene": {
           "xaxis": {
            "backgroundcolor": "#E5ECF6",
            "gridcolor": "white",
            "gridwidth": 2,
            "linecolor": "white",
            "showbackground": true,
            "ticks": "",
            "zerolinecolor": "white"
           },
           "yaxis": {
            "backgroundcolor": "#E5ECF6",
            "gridcolor": "white",
            "gridwidth": 2,
            "linecolor": "white",
            "showbackground": true,
            "ticks": "",
            "zerolinecolor": "white"
           },
           "zaxis": {
            "backgroundcolor": "#E5ECF6",
            "gridcolor": "white",
            "gridwidth": 2,
            "linecolor": "white",
            "showbackground": true,
            "ticks": "",
            "zerolinecolor": "white"
           }
          },
          "shapedefaults": {
           "line": {
            "color": "#2a3f5f"
           }
          },
          "ternary": {
           "aaxis": {
            "gridcolor": "white",
            "linecolor": "white",
            "ticks": ""
           },
           "baxis": {
            "gridcolor": "white",
            "linecolor": "white",
            "ticks": ""
           },
           "bgcolor": "#E5ECF6",
           "caxis": {
            "gridcolor": "white",
            "linecolor": "white",
            "ticks": ""
           }
          },
          "title": {
           "x": 0.05
          },
          "xaxis": {
           "automargin": true,
           "gridcolor": "white",
           "linecolor": "white",
           "ticks": "",
           "title": {
            "standoff": 15
           },
           "zerolinecolor": "white",
           "zerolinewidth": 2
          },
          "yaxis": {
           "automargin": true,
           "gridcolor": "white",
           "linecolor": "white",
           "ticks": "",
           "title": {
            "standoff": 15
           },
           "zerolinecolor": "white",
           "zerolinewidth": 2
          }
         }
        },
        "width": 1200
       }
      }
     },
     "metadata": {},
     "output_type": "display_data"
    }
   ],
   "source": [
    "client.plot_candlestick(df2)"
   ]
  },
  {
   "cell_type": "markdown",
   "metadata": {},
   "source": [
    "### Get the details for Tesla stock from US"
   ]
  },
  {
   "cell_type": "code",
   "execution_count": 36,
   "metadata": {},
   "outputs": [
    {
     "data": {
      "text/plain": [
       "{'bestMatches': [{'1. symbol': 'TSLA',\n",
       "   '2. name': 'Tesla Inc',\n",
       "   '3. type': 'Equity',\n",
       "   '4. region': 'United States',\n",
       "   '5. marketOpen': '09:30',\n",
       "   '6. marketClose': '16:00',\n",
       "   '7. timezone': 'UTC-04',\n",
       "   '8. currency': 'USD',\n",
       "   '9. matchScore': '0.8889'},\n",
       "  {'1. symbol': 'TL0.DEX',\n",
       "   '2. name': 'Tesla Inc',\n",
       "   '3. type': 'Equity',\n",
       "   '4. region': 'XETRA',\n",
       "   '5. marketOpen': '08:00',\n",
       "   '6. marketClose': '20:00',\n",
       "   '7. timezone': 'UTC+02',\n",
       "   '8. currency': 'EUR',\n",
       "   '9. matchScore': '0.7143'},\n",
       "  {'1. symbol': 'TL0.FRK',\n",
       "   '2. name': 'Tesla Inc',\n",
       "   '3. type': 'Equity',\n",
       "   '4. region': 'Frankfurt',\n",
       "   '5. marketOpen': '08:00',\n",
       "   '6. marketClose': '20:00',\n",
       "   '7. timezone': 'UTC+02',\n",
       "   '8. currency': 'EUR',\n",
       "   '9. matchScore': '0.7143'},\n",
       "  {'1. symbol': 'TSLA34.SAO',\n",
       "   '2. name': 'Tesla Inc',\n",
       "   '3. type': 'Equity',\n",
       "   '4. region': 'Brazil/Sao Paolo',\n",
       "   '5. marketOpen': '10:00',\n",
       "   '6. marketClose': '17:30',\n",
       "   '7. timezone': 'UTC-03',\n",
       "   '8. currency': 'BRL',\n",
       "   '9. matchScore': '0.7143'},\n",
       "  {'1. symbol': 'TL01.FRK',\n",
       "   '2. name': 'TESLA INC. CDR DL-001',\n",
       "   '3. type': 'Equity',\n",
       "   '4. region': 'Frankfurt',\n",
       "   '5. marketOpen': '08:00',\n",
       "   '6. marketClose': '20:00',\n",
       "   '7. timezone': 'UTC+02',\n",
       "   '8. currency': 'EUR',\n",
       "   '9. matchScore': '0.3846'}]}"
      ]
     },
     "execution_count": 36,
     "metadata": {},
     "output_type": "execute_result"
    }
   ],
   "source": [
    "client.search_symbol(company_name= \"Tesla\")"
   ]
  },
  {
   "cell_type": "code",
   "execution_count": 37,
   "metadata": {},
   "outputs": [
    {
     "data": {
      "text/html": [
       "<div>\n",
       "<style scoped>\n",
       "    .dataframe tbody tr th:only-of-type {\n",
       "        vertical-align: middle;\n",
       "    }\n",
       "\n",
       "    .dataframe tbody tr th {\n",
       "        vertical-align: top;\n",
       "    }\n",
       "\n",
       "    .dataframe thead th {\n",
       "        text-align: right;\n",
       "    }\n",
       "</style>\n",
       "<table border=\"1\" class=\"dataframe\">\n",
       "  <thead>\n",
       "    <tr style=\"text-align: right;\">\n",
       "      <th></th>\n",
       "      <th>1. open</th>\n",
       "      <th>2. high</th>\n",
       "      <th>3. low</th>\n",
       "      <th>4. close</th>\n",
       "      <th>5. volume</th>\n",
       "    </tr>\n",
       "    <tr>\n",
       "      <th>Date</th>\n",
       "      <th></th>\n",
       "      <th></th>\n",
       "      <th></th>\n",
       "      <th></th>\n",
       "      <th></th>\n",
       "    </tr>\n",
       "  </thead>\n",
       "  <tbody>\n",
       "    <tr>\n",
       "      <th>2025-01-02</th>\n",
       "      <td>390.10</td>\n",
       "      <td>392.73</td>\n",
       "      <td>373.04</td>\n",
       "      <td>379.28</td>\n",
       "      <td>109710749.0</td>\n",
       "    </tr>\n",
       "    <tr>\n",
       "      <th>2024-12-31</th>\n",
       "      <td>423.79</td>\n",
       "      <td>427.93</td>\n",
       "      <td>402.54</td>\n",
       "      <td>403.84</td>\n",
       "      <td>76825121.0</td>\n",
       "    </tr>\n",
       "    <tr>\n",
       "      <th>2024-12-30</th>\n",
       "      <td>419.40</td>\n",
       "      <td>427.00</td>\n",
       "      <td>415.75</td>\n",
       "      <td>417.41</td>\n",
       "      <td>64941012.0</td>\n",
       "    </tr>\n",
       "    <tr>\n",
       "      <th>2024-12-27</th>\n",
       "      <td>449.52</td>\n",
       "      <td>450.00</td>\n",
       "      <td>426.50</td>\n",
       "      <td>431.66</td>\n",
       "      <td>82666821.0</td>\n",
       "    </tr>\n",
       "    <tr>\n",
       "      <th>2024-12-26</th>\n",
       "      <td>465.16</td>\n",
       "      <td>465.33</td>\n",
       "      <td>451.02</td>\n",
       "      <td>454.13</td>\n",
       "      <td>76651210.0</td>\n",
       "    </tr>\n",
       "    <tr>\n",
       "      <th>...</th>\n",
       "      <td>...</td>\n",
       "      <td>...</td>\n",
       "      <td>...</td>\n",
       "      <td>...</td>\n",
       "      <td>...</td>\n",
       "    </tr>\n",
       "    <tr>\n",
       "      <th>2024-08-16</th>\n",
       "      <td>211.15</td>\n",
       "      <td>219.80</td>\n",
       "      <td>210.80</td>\n",
       "      <td>216.12</td>\n",
       "      <td>88765122.0</td>\n",
       "    </tr>\n",
       "    <tr>\n",
       "      <th>2024-08-15</th>\n",
       "      <td>205.02</td>\n",
       "      <td>215.88</td>\n",
       "      <td>204.82</td>\n",
       "      <td>214.14</td>\n",
       "      <td>89848530.0</td>\n",
       "    </tr>\n",
       "    <tr>\n",
       "      <th>2024-08-14</th>\n",
       "      <td>207.39</td>\n",
       "      <td>208.44</td>\n",
       "      <td>198.75</td>\n",
       "      <td>201.38</td>\n",
       "      <td>70250014.0</td>\n",
       "    </tr>\n",
       "    <tr>\n",
       "      <th>2024-08-13</th>\n",
       "      <td>198.47</td>\n",
       "      <td>208.49</td>\n",
       "      <td>197.06</td>\n",
       "      <td>207.83</td>\n",
       "      <td>76247387.0</td>\n",
       "    </tr>\n",
       "    <tr>\n",
       "      <th>2024-08-12</th>\n",
       "      <td>199.02</td>\n",
       "      <td>199.26</td>\n",
       "      <td>194.67</td>\n",
       "      <td>197.49</td>\n",
       "      <td>64044903.0</td>\n",
       "    </tr>\n",
       "  </tbody>\n",
       "</table>\n",
       "<p>100 rows × 5 columns</p>\n",
       "</div>"
      ],
      "text/plain": [
       "            1. open  2. high  3. low  4. close    5. volume\n",
       "Date                                                       \n",
       "2025-01-02   390.10   392.73  373.04    379.28  109710749.0\n",
       "2024-12-31   423.79   427.93  402.54    403.84   76825121.0\n",
       "2024-12-30   419.40   427.00  415.75    417.41   64941012.0\n",
       "2024-12-27   449.52   450.00  426.50    431.66   82666821.0\n",
       "2024-12-26   465.16   465.33  451.02    454.13   76651210.0\n",
       "...             ...      ...     ...       ...          ...\n",
       "2024-08-16   211.15   219.80  210.80    216.12   88765122.0\n",
       "2024-08-15   205.02   215.88  204.82    214.14   89848530.0\n",
       "2024-08-14   207.39   208.44  198.75    201.38   70250014.0\n",
       "2024-08-13   198.47   208.49  197.06    207.83   76247387.0\n",
       "2024-08-12   199.02   199.26  194.67    197.49   64044903.0\n",
       "\n",
       "[100 rows x 5 columns]"
      ]
     },
     "execution_count": 37,
     "metadata": {},
     "output_type": "execute_result"
    }
   ],
   "source": [
    "df3 = client.get_stock_data(symbol= \"TSLA\")\n",
    "df3"
   ]
  },
  {
   "cell_type": "code",
   "execution_count": 38,
   "metadata": {},
   "outputs": [
    {
     "data": {
      "application/vnd.plotly.v1+json": {
       "config": {
        "plotlyServerURL": "https://plot.ly"
       },
       "data": [
        {
         "close": [
          379.28,
          403.84,
          417.41,
          431.66,
          454.13,
          462.28,
          430.6,
          421.06,
          436.17,
          440.13,
          479.86,
          463.02,
          436.23,
          418.1,
          424.77,
          400.99,
          389.79,
          389.22,
          369.49,
          357.93,
          351.42,
          357.09,
          345.16,
          332.89,
          338.23,
          338.59,
          352.56,
          339.64,
          342.03,
          346,
          338.74,
          320.72,
          311.18,
          330.24,
          328.49,
          350,
          321.22,
          296.91,
          288.53,
          251.44,
          242.84,
          248.98,
          249.85,
          257.55,
          259.52,
          262.51,
          269.19,
          260.48,
          213.65,
          217.97,
          218.85,
          220.7,
          220.89,
          221.33,
          219.57,
          219.16,
          217.8,
          238.77,
          241.05,
          244.5,
          240.83,
          250.08,
          240.66,
          249.02,
          258.02,
          261.63,
          260.46,
          254.22,
          257.02,
          254.27,
          250,
          238.25,
          243.92,
          227.2,
          227.87,
          226.78,
          230.29,
          229.81,
          228.13,
          226.17,
          216.27,
          210.73,
          230.17,
          219.41,
          210.6,
          214.11,
          206.28,
          205.75,
          209.21,
          213.21,
          220.32,
          210.66,
          223.27,
          221.1,
          222.72,
          216.12,
          214.14,
          201.38,
          207.83,
          197.49
         ],
         "high": [
          392.73,
          427.93,
          427,
          450,
          465.33,
          462.78,
          434.51,
          447.08,
          456.36,
          488.54,
          483.99,
          463.19,
          436.3,
          429.3,
          424.88,
          409.73,
          404.8,
          389.49,
          375.43,
          358.1,
          355.69,
          360,
          345.45,
          342.55,
          346.96,
          361.93,
          361.53,
          347.99,
          346.6,
          347.38,
          348.55,
          324.68,
          329.98,
          344.6,
          345.84,
          358.64,
          328.71,
          299.75,
          289.59,
          255.28,
          248.9,
          254,
          259.75,
          263.35,
          264.98,
          273.54,
          269.49,
          262.12,
          218.72,
          218.22,
          220.48,
          222.28,
          222.08,
          222.82,
          224.26,
          221.91,
          223.34,
          242.79,
          247.43,
          246.21,
          249.83,
          250.96,
          249.79,
          251.16,
          263.98,
          264.86,
          260.7,
          261.75,
          257.05,
          257.19,
          250,
          243.99,
          244.24,
          235.68,
          234.57,
          229.96,
          232.67,
          231.45,
          228.47,
          226.4,
          219.87,
          233.6,
          235,
          222.22,
          219.9,
          214.57,
          214.89,
          211.84,
          215.66,
          219.09,
          221.48,
          224.8,
          224.66,
          228.22,
          222.98,
          219.8,
          215.88,
          208.44,
          208.49,
          199.26
         ],
         "low": [
          373.04,
          402.54,
          415.75,
          426.5,
          451.02,
          435.14,
          415.41,
          417.64,
          420.02,
          427.01,
          457.51,
          436.15,
          415.71,
          415,
          402.38,
          390.85,
          378.01,
          370.8,
          359.5,
          348.6,
          348.2,
          351.15,
          334.65,
          326.59,
          335.66,
          338.2,
          337.7,
          335.28,
          334.3,
          332.75,
          330.01,
          309.22,
          310.37,
          322.5,
          323.31,
          336,
          297.66,
          285.52,
          275.62,
          246.21,
          238.88,
          246.63,
          249.25,
          255.82,
          255.51,
          262.24,
          255.32,
          242.65,
          212.11,
          215.26,
          215.73,
          219.23,
          217.9,
          218.93,
          217.12,
          213.74,
          214.38,
          232.34,
          239.51,
          240.56,
          240.7,
          244.58,
          237.81,
          241.5,
          248.53,
          255.77,
          254.12,
          251.53,
          252.28,
          249.05,
          241.92,
          235.92,
          232.13,
          226.88,
          226.55,
          223.53,
          226.32,
          223.83,
          216.8,
          218.64,
          213.67,
          210.51,
          222.25,
          210.57,
          209.64,
          207.03,
          205.97,
          202.59,
          206.94,
          211.01,
          214.21,
          210.32,
          218.86,
          219.56,
          214.09,
          210.8,
          204.82,
          198.75,
          197.06,
          194.67
         ],
         "open": [
          390.1,
          423.79,
          419.4,
          449.52,
          465.16,
          435.9,
          431,
          425.5,
          451.88,
          466.5,
          475.9,
          441.09,
          420,
          424.84,
          409.7,
          392.68,
          397.61,
          377.42,
          359.87,
          353,
          351.8,
          352.38,
          336.08,
          341.8,
          341,
          360.14,
          341.08,
          343.81,
          345,
          335.76,
          340.73,
          310.57,
          327.69,
          335.85,
          342.74,
          346.3,
          299.14,
          288.89,
          284.67,
          247.34,
          244.56,
          252.04,
          257.99,
          258.04,
          264.51,
          270,
          256.01,
          244.68,
          217.12,
          217.31,
          218.9,
          220.71,
          221.59,
          221.4,
          220.01,
          220.13,
          220.13,
          241.81,
          243.82,
          243.56,
          249,
          246.69,
          244.48,
          247.55,
          262.67,
          259.04,
          257.38,
          260.6,
          252.54,
          254.08,
          242.61,
          241.52,
          234,
          230.09,
          229.45,
          229.3,
          228,
          224.66,
          224.55,
          220.07,
          216.2,
          232.6,
          223.49,
          210.59,
          215.26,
          208.63,
          209.8,
          209.72,
          213.25,
          218.75,
          214.46,
          223.82,
          222.67,
          224.88,
          217.07,
          211.15,
          205.02,
          207.39,
          198.47,
          199.02
         ],
         "type": "candlestick",
         "x": [
          "2025-01-02T00:00:00",
          "2024-12-31T00:00:00",
          "2024-12-30T00:00:00",
          "2024-12-27T00:00:00",
          "2024-12-26T00:00:00",
          "2024-12-24T00:00:00",
          "2024-12-23T00:00:00",
          "2024-12-20T00:00:00",
          "2024-12-19T00:00:00",
          "2024-12-18T00:00:00",
          "2024-12-17T00:00:00",
          "2024-12-16T00:00:00",
          "2024-12-13T00:00:00",
          "2024-12-12T00:00:00",
          "2024-12-11T00:00:00",
          "2024-12-10T00:00:00",
          "2024-12-09T00:00:00",
          "2024-12-06T00:00:00",
          "2024-12-05T00:00:00",
          "2024-12-04T00:00:00",
          "2024-12-03T00:00:00",
          "2024-12-02T00:00:00",
          "2024-11-29T00:00:00",
          "2024-11-27T00:00:00",
          "2024-11-26T00:00:00",
          "2024-11-25T00:00:00",
          "2024-11-22T00:00:00",
          "2024-11-21T00:00:00",
          "2024-11-20T00:00:00",
          "2024-11-19T00:00:00",
          "2024-11-18T00:00:00",
          "2024-11-15T00:00:00",
          "2024-11-14T00:00:00",
          "2024-11-13T00:00:00",
          "2024-11-12T00:00:00",
          "2024-11-11T00:00:00",
          "2024-11-08T00:00:00",
          "2024-11-07T00:00:00",
          "2024-11-06T00:00:00",
          "2024-11-05T00:00:00",
          "2024-11-04T00:00:00",
          "2024-11-01T00:00:00",
          "2024-10-31T00:00:00",
          "2024-10-30T00:00:00",
          "2024-10-29T00:00:00",
          "2024-10-28T00:00:00",
          "2024-10-25T00:00:00",
          "2024-10-24T00:00:00",
          "2024-10-23T00:00:00",
          "2024-10-22T00:00:00",
          "2024-10-21T00:00:00",
          "2024-10-18T00:00:00",
          "2024-10-17T00:00:00",
          "2024-10-16T00:00:00",
          "2024-10-15T00:00:00",
          "2024-10-14T00:00:00",
          "2024-10-11T00:00:00",
          "2024-10-10T00:00:00",
          "2024-10-09T00:00:00",
          "2024-10-08T00:00:00",
          "2024-10-07T00:00:00",
          "2024-10-04T00:00:00",
          "2024-10-03T00:00:00",
          "2024-10-02T00:00:00",
          "2024-10-01T00:00:00",
          "2024-09-30T00:00:00",
          "2024-09-27T00:00:00",
          "2024-09-26T00:00:00",
          "2024-09-25T00:00:00",
          "2024-09-24T00:00:00",
          "2024-09-23T00:00:00",
          "2024-09-20T00:00:00",
          "2024-09-19T00:00:00",
          "2024-09-18T00:00:00",
          "2024-09-17T00:00:00",
          "2024-09-16T00:00:00",
          "2024-09-13T00:00:00",
          "2024-09-12T00:00:00",
          "2024-09-11T00:00:00",
          "2024-09-10T00:00:00",
          "2024-09-09T00:00:00",
          "2024-09-06T00:00:00",
          "2024-09-05T00:00:00",
          "2024-09-04T00:00:00",
          "2024-09-03T00:00:00",
          "2024-08-30T00:00:00",
          "2024-08-29T00:00:00",
          "2024-08-28T00:00:00",
          "2024-08-27T00:00:00",
          "2024-08-26T00:00:00",
          "2024-08-23T00:00:00",
          "2024-08-22T00:00:00",
          "2024-08-21T00:00:00",
          "2024-08-20T00:00:00",
          "2024-08-19T00:00:00",
          "2024-08-16T00:00:00",
          "2024-08-15T00:00:00",
          "2024-08-14T00:00:00",
          "2024-08-13T00:00:00",
          "2024-08-12T00:00:00"
         ]
        }
       ],
       "layout": {
        "height": 800,
        "template": {
         "data": {
          "bar": [
           {
            "error_x": {
             "color": "#2a3f5f"
            },
            "error_y": {
             "color": "#2a3f5f"
            },
            "marker": {
             "line": {
              "color": "#E5ECF6",
              "width": 0.5
             },
             "pattern": {
              "fillmode": "overlay",
              "size": 10,
              "solidity": 0.2
             }
            },
            "type": "bar"
           }
          ],
          "barpolar": [
           {
            "marker": {
             "line": {
              "color": "#E5ECF6",
              "width": 0.5
             },
             "pattern": {
              "fillmode": "overlay",
              "size": 10,
              "solidity": 0.2
             }
            },
            "type": "barpolar"
           }
          ],
          "carpet": [
           {
            "aaxis": {
             "endlinecolor": "#2a3f5f",
             "gridcolor": "white",
             "linecolor": "white",
             "minorgridcolor": "white",
             "startlinecolor": "#2a3f5f"
            },
            "baxis": {
             "endlinecolor": "#2a3f5f",
             "gridcolor": "white",
             "linecolor": "white",
             "minorgridcolor": "white",
             "startlinecolor": "#2a3f5f"
            },
            "type": "carpet"
           }
          ],
          "choropleth": [
           {
            "colorbar": {
             "outlinewidth": 0,
             "ticks": ""
            },
            "type": "choropleth"
           }
          ],
          "contour": [
           {
            "colorbar": {
             "outlinewidth": 0,
             "ticks": ""
            },
            "colorscale": [
             [
              0,
              "#0d0887"
             ],
             [
              0.1111111111111111,
              "#46039f"
             ],
             [
              0.2222222222222222,
              "#7201a8"
             ],
             [
              0.3333333333333333,
              "#9c179e"
             ],
             [
              0.4444444444444444,
              "#bd3786"
             ],
             [
              0.5555555555555556,
              "#d8576b"
             ],
             [
              0.6666666666666666,
              "#ed7953"
             ],
             [
              0.7777777777777778,
              "#fb9f3a"
             ],
             [
              0.8888888888888888,
              "#fdca26"
             ],
             [
              1,
              "#f0f921"
             ]
            ],
            "type": "contour"
           }
          ],
          "contourcarpet": [
           {
            "colorbar": {
             "outlinewidth": 0,
             "ticks": ""
            },
            "type": "contourcarpet"
           }
          ],
          "heatmap": [
           {
            "colorbar": {
             "outlinewidth": 0,
             "ticks": ""
            },
            "colorscale": [
             [
              0,
              "#0d0887"
             ],
             [
              0.1111111111111111,
              "#46039f"
             ],
             [
              0.2222222222222222,
              "#7201a8"
             ],
             [
              0.3333333333333333,
              "#9c179e"
             ],
             [
              0.4444444444444444,
              "#bd3786"
             ],
             [
              0.5555555555555556,
              "#d8576b"
             ],
             [
              0.6666666666666666,
              "#ed7953"
             ],
             [
              0.7777777777777778,
              "#fb9f3a"
             ],
             [
              0.8888888888888888,
              "#fdca26"
             ],
             [
              1,
              "#f0f921"
             ]
            ],
            "type": "heatmap"
           }
          ],
          "heatmapgl": [
           {
            "colorbar": {
             "outlinewidth": 0,
             "ticks": ""
            },
            "colorscale": [
             [
              0,
              "#0d0887"
             ],
             [
              0.1111111111111111,
              "#46039f"
             ],
             [
              0.2222222222222222,
              "#7201a8"
             ],
             [
              0.3333333333333333,
              "#9c179e"
             ],
             [
              0.4444444444444444,
              "#bd3786"
             ],
             [
              0.5555555555555556,
              "#d8576b"
             ],
             [
              0.6666666666666666,
              "#ed7953"
             ],
             [
              0.7777777777777778,
              "#fb9f3a"
             ],
             [
              0.8888888888888888,
              "#fdca26"
             ],
             [
              1,
              "#f0f921"
             ]
            ],
            "type": "heatmapgl"
           }
          ],
          "histogram": [
           {
            "marker": {
             "pattern": {
              "fillmode": "overlay",
              "size": 10,
              "solidity": 0.2
             }
            },
            "type": "histogram"
           }
          ],
          "histogram2d": [
           {
            "colorbar": {
             "outlinewidth": 0,
             "ticks": ""
            },
            "colorscale": [
             [
              0,
              "#0d0887"
             ],
             [
              0.1111111111111111,
              "#46039f"
             ],
             [
              0.2222222222222222,
              "#7201a8"
             ],
             [
              0.3333333333333333,
              "#9c179e"
             ],
             [
              0.4444444444444444,
              "#bd3786"
             ],
             [
              0.5555555555555556,
              "#d8576b"
             ],
             [
              0.6666666666666666,
              "#ed7953"
             ],
             [
              0.7777777777777778,
              "#fb9f3a"
             ],
             [
              0.8888888888888888,
              "#fdca26"
             ],
             [
              1,
              "#f0f921"
             ]
            ],
            "type": "histogram2d"
           }
          ],
          "histogram2dcontour": [
           {
            "colorbar": {
             "outlinewidth": 0,
             "ticks": ""
            },
            "colorscale": [
             [
              0,
              "#0d0887"
             ],
             [
              0.1111111111111111,
              "#46039f"
             ],
             [
              0.2222222222222222,
              "#7201a8"
             ],
             [
              0.3333333333333333,
              "#9c179e"
             ],
             [
              0.4444444444444444,
              "#bd3786"
             ],
             [
              0.5555555555555556,
              "#d8576b"
             ],
             [
              0.6666666666666666,
              "#ed7953"
             ],
             [
              0.7777777777777778,
              "#fb9f3a"
             ],
             [
              0.8888888888888888,
              "#fdca26"
             ],
             [
              1,
              "#f0f921"
             ]
            ],
            "type": "histogram2dcontour"
           }
          ],
          "mesh3d": [
           {
            "colorbar": {
             "outlinewidth": 0,
             "ticks": ""
            },
            "type": "mesh3d"
           }
          ],
          "parcoords": [
           {
            "line": {
             "colorbar": {
              "outlinewidth": 0,
              "ticks": ""
             }
            },
            "type": "parcoords"
           }
          ],
          "pie": [
           {
            "automargin": true,
            "type": "pie"
           }
          ],
          "scatter": [
           {
            "fillpattern": {
             "fillmode": "overlay",
             "size": 10,
             "solidity": 0.2
            },
            "type": "scatter"
           }
          ],
          "scatter3d": [
           {
            "line": {
             "colorbar": {
              "outlinewidth": 0,
              "ticks": ""
             }
            },
            "marker": {
             "colorbar": {
              "outlinewidth": 0,
              "ticks": ""
             }
            },
            "type": "scatter3d"
           }
          ],
          "scattercarpet": [
           {
            "marker": {
             "colorbar": {
              "outlinewidth": 0,
              "ticks": ""
             }
            },
            "type": "scattercarpet"
           }
          ],
          "scattergeo": [
           {
            "marker": {
             "colorbar": {
              "outlinewidth": 0,
              "ticks": ""
             }
            },
            "type": "scattergeo"
           }
          ],
          "scattergl": [
           {
            "marker": {
             "colorbar": {
              "outlinewidth": 0,
              "ticks": ""
             }
            },
            "type": "scattergl"
           }
          ],
          "scattermapbox": [
           {
            "marker": {
             "colorbar": {
              "outlinewidth": 0,
              "ticks": ""
             }
            },
            "type": "scattermapbox"
           }
          ],
          "scatterpolar": [
           {
            "marker": {
             "colorbar": {
              "outlinewidth": 0,
              "ticks": ""
             }
            },
            "type": "scatterpolar"
           }
          ],
          "scatterpolargl": [
           {
            "marker": {
             "colorbar": {
              "outlinewidth": 0,
              "ticks": ""
             }
            },
            "type": "scatterpolargl"
           }
          ],
          "scatterternary": [
           {
            "marker": {
             "colorbar": {
              "outlinewidth": 0,
              "ticks": ""
             }
            },
            "type": "scatterternary"
           }
          ],
          "surface": [
           {
            "colorbar": {
             "outlinewidth": 0,
             "ticks": ""
            },
            "colorscale": [
             [
              0,
              "#0d0887"
             ],
             [
              0.1111111111111111,
              "#46039f"
             ],
             [
              0.2222222222222222,
              "#7201a8"
             ],
             [
              0.3333333333333333,
              "#9c179e"
             ],
             [
              0.4444444444444444,
              "#bd3786"
             ],
             [
              0.5555555555555556,
              "#d8576b"
             ],
             [
              0.6666666666666666,
              "#ed7953"
             ],
             [
              0.7777777777777778,
              "#fb9f3a"
             ],
             [
              0.8888888888888888,
              "#fdca26"
             ],
             [
              1,
              "#f0f921"
             ]
            ],
            "type": "surface"
           }
          ],
          "table": [
           {
            "cells": {
             "fill": {
              "color": "#EBF0F8"
             },
             "line": {
              "color": "white"
             }
            },
            "header": {
             "fill": {
              "color": "#C8D4E3"
             },
             "line": {
              "color": "white"
             }
            },
            "type": "table"
           }
          ]
         },
         "layout": {
          "annotationdefaults": {
           "arrowcolor": "#2a3f5f",
           "arrowhead": 0,
           "arrowwidth": 1
          },
          "autotypenumbers": "strict",
          "coloraxis": {
           "colorbar": {
            "outlinewidth": 0,
            "ticks": ""
           }
          },
          "colorscale": {
           "diverging": [
            [
             0,
             "#8e0152"
            ],
            [
             0.1,
             "#c51b7d"
            ],
            [
             0.2,
             "#de77ae"
            ],
            [
             0.3,
             "#f1b6da"
            ],
            [
             0.4,
             "#fde0ef"
            ],
            [
             0.5,
             "#f7f7f7"
            ],
            [
             0.6,
             "#e6f5d0"
            ],
            [
             0.7,
             "#b8e186"
            ],
            [
             0.8,
             "#7fbc41"
            ],
            [
             0.9,
             "#4d9221"
            ],
            [
             1,
             "#276419"
            ]
           ],
           "sequential": [
            [
             0,
             "#0d0887"
            ],
            [
             0.1111111111111111,
             "#46039f"
            ],
            [
             0.2222222222222222,
             "#7201a8"
            ],
            [
             0.3333333333333333,
             "#9c179e"
            ],
            [
             0.4444444444444444,
             "#bd3786"
            ],
            [
             0.5555555555555556,
             "#d8576b"
            ],
            [
             0.6666666666666666,
             "#ed7953"
            ],
            [
             0.7777777777777778,
             "#fb9f3a"
            ],
            [
             0.8888888888888888,
             "#fdca26"
            ],
            [
             1,
             "#f0f921"
            ]
           ],
           "sequentialminus": [
            [
             0,
             "#0d0887"
            ],
            [
             0.1111111111111111,
             "#46039f"
            ],
            [
             0.2222222222222222,
             "#7201a8"
            ],
            [
             0.3333333333333333,
             "#9c179e"
            ],
            [
             0.4444444444444444,
             "#bd3786"
            ],
            [
             0.5555555555555556,
             "#d8576b"
            ],
            [
             0.6666666666666666,
             "#ed7953"
            ],
            [
             0.7777777777777778,
             "#fb9f3a"
            ],
            [
             0.8888888888888888,
             "#fdca26"
            ],
            [
             1,
             "#f0f921"
            ]
           ]
          },
          "colorway": [
           "#636efa",
           "#EF553B",
           "#00cc96",
           "#ab63fa",
           "#FFA15A",
           "#19d3f3",
           "#FF6692",
           "#B6E880",
           "#FF97FF",
           "#FECB52"
          ],
          "font": {
           "color": "#2a3f5f"
          },
          "geo": {
           "bgcolor": "white",
           "lakecolor": "white",
           "landcolor": "#E5ECF6",
           "showlakes": true,
           "showland": true,
           "subunitcolor": "white"
          },
          "hoverlabel": {
           "align": "left"
          },
          "hovermode": "closest",
          "mapbox": {
           "style": "light"
          },
          "paper_bgcolor": "white",
          "plot_bgcolor": "#E5ECF6",
          "polar": {
           "angularaxis": {
            "gridcolor": "white",
            "linecolor": "white",
            "ticks": ""
           },
           "bgcolor": "#E5ECF6",
           "radialaxis": {
            "gridcolor": "white",
            "linecolor": "white",
            "ticks": ""
           }
          },
          "scene": {
           "xaxis": {
            "backgroundcolor": "#E5ECF6",
            "gridcolor": "white",
            "gridwidth": 2,
            "linecolor": "white",
            "showbackground": true,
            "ticks": "",
            "zerolinecolor": "white"
           },
           "yaxis": {
            "backgroundcolor": "#E5ECF6",
            "gridcolor": "white",
            "gridwidth": 2,
            "linecolor": "white",
            "showbackground": true,
            "ticks": "",
            "zerolinecolor": "white"
           },
           "zaxis": {
            "backgroundcolor": "#E5ECF6",
            "gridcolor": "white",
            "gridwidth": 2,
            "linecolor": "white",
            "showbackground": true,
            "ticks": "",
            "zerolinecolor": "white"
           }
          },
          "shapedefaults": {
           "line": {
            "color": "#2a3f5f"
           }
          },
          "ternary": {
           "aaxis": {
            "gridcolor": "white",
            "linecolor": "white",
            "ticks": ""
           },
           "baxis": {
            "gridcolor": "white",
            "linecolor": "white",
            "ticks": ""
           },
           "bgcolor": "#E5ECF6",
           "caxis": {
            "gridcolor": "white",
            "linecolor": "white",
            "ticks": ""
           }
          },
          "title": {
           "x": 0.05
          },
          "xaxis": {
           "automargin": true,
           "gridcolor": "white",
           "linecolor": "white",
           "ticks": "",
           "title": {
            "standoff": 15
           },
           "zerolinecolor": "white",
           "zerolinewidth": 2
          },
          "yaxis": {
           "automargin": true,
           "gridcolor": "white",
           "linecolor": "white",
           "ticks": "",
           "title": {
            "standoff": 15
           },
           "zerolinecolor": "white",
           "zerolinewidth": 2
          }
         }
        },
        "width": 1200
       }
      }
     },
     "metadata": {},
     "output_type": "display_data"
    }
   ],
   "source": [
    "client.plot_candlestick(df3)"
   ]
  },
  {
   "cell_type": "code",
   "execution_count": null,
   "metadata": {},
   "outputs": [],
   "source": []
  }
 ],
 "metadata": {
  "kernelspec": {
   "display_name": "venv",
   "language": "python",
   "name": "python3"
  },
  "language_info": {
   "codemirror_mode": {
    "name": "ipython",
    "version": 3
   },
   "file_extension": ".py",
   "mimetype": "text/x-python",
   "name": "python",
   "nbconvert_exporter": "python",
   "pygments_lexer": "ipython3",
   "version": "3.12.8"
  }
 },
 "nbformat": 4,
 "nbformat_minor": 2
}
